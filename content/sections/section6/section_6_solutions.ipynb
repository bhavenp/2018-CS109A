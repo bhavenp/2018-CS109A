{
 "cells": [
  {
   "cell_type": "markdown",
   "metadata": {},
   "source": [
    "# <img style=\"float: left; padding-right: 10px; width: 45px\" src=\"https://raw.githubusercontent.com/Harvard-IACS/2018-CS109A/master/content/styles/iacs.png\"> CS109A Introduction to Data Science\n",
    "\n",
    "## Standard Section 6: Feed Forward Neural Networks\n",
    "\n",
    "**Harvard University**<br/>\n",
    "**Fall 2018**<br/>\n",
    "**Section Leaders:** Mehul Smriti Raje, Ken Arnold, Karan Motwani, Cecilia Garraffo<br/>\n",
    "**Instructors:** Pavlos Protopapas, Kevin Rader <br/>\n",
    "**Author:** Mehul Smriti Raje"
   ]
  },
  {
   "cell_type": "markdown",
   "metadata": {},
   "source": [
    "In this section we will discover how to create feed-forward neural networks using a fun dataset. The goal is to familiarize you with manual implementations of Neural Networks. The exercises below will help you be able to answer parts of Homework 6.\n",
    "\n",
    "Specifically, we will: \n",
    "    \n",
    "    1. Import data, explore with analyse relationship with response.\n",
    "    2. Fit some previously used regression models, understand drawbacks and interpret results.\n",
    "    3. Construct a feed-forward NN for regression, compare performance and interpret results.\n"
   ]
  },
  {
   "cell_type": "markdown",
   "metadata": {},
   "source": [
    "For this section we will be using the following packages:"
   ]
  },
  {
   "cell_type": "code",
   "execution_count": 1,
   "metadata": {},
   "outputs": [],
   "source": [
    "# Data and Stats packages\n",
    "import numpy as np\n",
    "import pandas as pd\n",
    "import statsmodels.api as sm\n",
    "from statsmodels.api import OLS\n",
    "from sklearn import metrics, datasets\n",
    "from sklearn.model_selection import train_test_split\n",
    "from sklearn.linear_model import LogisticRegression, LinearRegression\n",
    "from sklearn.linear_model import LogisticRegressionCV\n",
    "from sklearn.preprocessing import PolynomialFeatures\n",
    "from sklearn.metrics import accuracy_score, r2_score\n",
    "\n",
    "# Visualization packages\n",
    "%matplotlib inline\n",
    "import matplotlib\n",
    "import matplotlib.pyplot as plt\n",
    "import seaborn as sns\n",
    "matplotlib.rcParams['figure.figsize'] = (13.0, 6.0)\n",
    "\n",
    "# Aesthetic settings\n",
    "from IPython.display import display\n",
    "pd.set_option('display.max_columns', 999)\n",
    "pd.set_option('display.width', 500)\n",
    "sns.set_style('whitegrid')\n",
    "sns.set_context('talk')"
   ]
  },
  {
   "cell_type": "markdown",
   "metadata": {},
   "source": [
    "# Fun Dataset"
   ]
  },
  {
   "cell_type": "markdown",
   "metadata": {},
   "source": [
    "Let us import a fun dataset specially created to show you how to play with neural networks."
   ]
  },
  {
   "cell_type": "code",
   "execution_count": 2,
   "metadata": {},
   "outputs": [
    {
     "data": {
      "text/html": [
       "<div>\n",
       "<style scoped>\n",
       "    .dataframe tbody tr th:only-of-type {\n",
       "        vertical-align: middle;\n",
       "    }\n",
       "\n",
       "    .dataframe tbody tr th {\n",
       "        vertical-align: top;\n",
       "    }\n",
       "\n",
       "    .dataframe thead th {\n",
       "        text-align: right;\n",
       "    }\n",
       "</style>\n",
       "<table border=\"1\" class=\"dataframe\">\n",
       "  <thead>\n",
       "    <tr style=\"text-align: right;\">\n",
       "      <th></th>\n",
       "      <th>x</th>\n",
       "      <th>y</th>\n",
       "    </tr>\n",
       "  </thead>\n",
       "  <tbody>\n",
       "    <tr>\n",
       "      <th>0</th>\n",
       "      <td>2.617188</td>\n",
       "      <td>-2.265495</td>\n",
       "    </tr>\n",
       "    <tr>\n",
       "      <th>1</th>\n",
       "      <td>0.000000</td>\n",
       "      <td>0.000000</td>\n",
       "    </tr>\n",
       "    <tr>\n",
       "      <th>2</th>\n",
       "      <td>9.375000</td>\n",
       "      <td>-9.363387</td>\n",
       "    </tr>\n",
       "    <tr>\n",
       "      <th>3</th>\n",
       "      <td>8.320312</td>\n",
       "      <td>-3.740912</td>\n",
       "    </tr>\n",
       "    <tr>\n",
       "      <th>4</th>\n",
       "      <td>0.195312</td>\n",
       "      <td>0.191599</td>\n",
       "    </tr>\n",
       "  </tbody>\n",
       "</table>\n",
       "</div>"
      ],
      "text/plain": [
       "          x         y\n",
       "0  2.617188 -2.265495\n",
       "1  0.000000  0.000000\n",
       "2  9.375000 -9.363387\n",
       "3  8.320312 -3.740912\n",
       "4  0.195312  0.191599"
      ]
     },
     "metadata": {},
     "output_type": "display_data"
    },
    {
     "name": "stdout",
     "output_type": "stream",
     "text": [
      "(100, 2)\n"
     ]
    }
   ],
   "source": [
    "#Import dataframe\n",
    "fun_df = pd.read_csv('data/fun_dataset.csv')\n",
    "fun_df = fun_df[['x', 'y']]\n",
    "display(fun_df.head())\n",
    "print(fun_df.shape)"
   ]
  },
  {
   "cell_type": "markdown",
   "metadata": {},
   "source": [
    "Let us peek and see how the data is distributed."
   ]
  },
  {
   "cell_type": "code",
   "execution_count": 3,
   "metadata": {},
   "outputs": [
    {
     "data": {
      "text/plain": [
       "[<matplotlib.lines.Line2D at 0x1c14f30b38>]"
      ]
     },
     "execution_count": 3,
     "metadata": {},
     "output_type": "execute_result"
    },
    {
     "data": {
      "image/png": "[encoded data removed]",
      "text/plain": [
       "<Figure size 432x288 with 1 Axes>"
      ]
     },
     "metadata": {},
     "output_type": "display_data"
    }
   ],
   "source": [
    "fun_df = fun_df.sort_values(by = 'x')\n",
    "plt.plot(fun_df.x, fun_df.y, '--')"
   ]
  },
  {
   "cell_type": "markdown",
   "metadata": {},
   "source": [
    "We see that there are two distinct humps in the data. We will try to qualitatively check if our models generalise well on these."
   ]
  },
  {
   "cell_type": "markdown",
   "metadata": {},
   "source": [
    "# Can we model this data using Logistic Regression/Polynomial Regression"
   ]
  },
  {
   "cell_type": "code",
   "execution_count": 4,
   "metadata": {},
   "outputs": [],
   "source": [
    "# Defining X and Y\n",
    "X = fun_df.x\n",
    "Y = fun_df.y"
   ]
  },
  {
   "cell_type": "code",
   "execution_count": 5,
   "metadata": {},
   "outputs": [
    {
     "data": {
      "text/html": [
       "<div>\n",
       "<style scoped>\n",
       "    .dataframe tbody tr th:only-of-type {\n",
       "        vertical-align: middle;\n",
       "    }\n",
       "\n",
       "    .dataframe tbody tr th {\n",
       "        vertical-align: top;\n",
       "    }\n",
       "\n",
       "    .dataframe thead th {\n",
       "        text-align: right;\n",
       "    }\n",
       "</style>\n",
       "<table border=\"1\" class=\"dataframe\">\n",
       "  <thead>\n",
       "    <tr style=\"text-align: right;\">\n",
       "      <th></th>\n",
       "      <th>x</th>\n",
       "      <th>y</th>\n",
       "    </tr>\n",
       "  </thead>\n",
       "  <tbody>\n",
       "    <tr>\n",
       "      <th>count</th>\n",
       "      <td>100.000000</td>\n",
       "      <td>100.000000</td>\n",
       "    </tr>\n",
       "    <tr>\n",
       "      <th>mean</th>\n",
       "      <td>4.828125</td>\n",
       "      <td>-0.707590</td>\n",
       "    </tr>\n",
       "    <tr>\n",
       "      <th>std</th>\n",
       "      <td>3.016739</td>\n",
       "      <td>4.377725</td>\n",
       "    </tr>\n",
       "    <tr>\n",
       "      <th>min</th>\n",
       "      <td>0.000000</td>\n",
       "      <td>-9.449327</td>\n",
       "    </tr>\n",
       "    <tr>\n",
       "      <th>25%</th>\n",
       "      <td>2.333984</td>\n",
       "      <td>-2.751728</td>\n",
       "    </tr>\n",
       "    <tr>\n",
       "      <th>50%</th>\n",
       "      <td>4.941406</td>\n",
       "      <td>0.019516</td>\n",
       "    </tr>\n",
       "    <tr>\n",
       "      <th>75%</th>\n",
       "      <td>7.470703</td>\n",
       "      <td>1.532279</td>\n",
       "    </tr>\n",
       "    <tr>\n",
       "      <th>max</th>\n",
       "      <td>10.000000</td>\n",
       "      <td>6.336071</td>\n",
       "    </tr>\n",
       "  </tbody>\n",
       "</table>\n",
       "</div>"
      ],
      "text/plain": [
       "                x           y\n",
       "count  100.000000  100.000000\n",
       "mean     4.828125   -0.707590\n",
       "std      3.016739    4.377725\n",
       "min      0.000000   -9.449327\n",
       "25%      2.333984   -2.751728\n",
       "50%      4.941406    0.019516\n",
       "75%      7.470703    1.532279\n",
       "max     10.000000    6.336071"
      ]
     },
     "execution_count": 5,
     "metadata": {},
     "output_type": "execute_result"
    }
   ],
   "source": [
    "fun_df.describe()"
   ]
  },
  {
   "cell_type": "markdown",
   "metadata": {},
   "source": [
    "### Doing the same old pre-processing"
   ]
  },
  {
   "cell_type": "code",
   "execution_count": 6,
   "metadata": {},
   "outputs": [
    {
     "name": "stdout",
     "output_type": "stream",
     "text": [
      "(75, 1) (25, 1) (75,) (25,)\n"
     ]
    }
   ],
   "source": [
    "# Splitting into train and test\n",
    "x_train, x_test, y_train, y_test = train_test_split(X, Y, test_size=0.25, random_state=9001)\n",
    "\n",
    "# Re-shaping data\n",
    "x_train, y_train = x_train.values.reshape(-1,1), y_train.values\n",
    "x_test, y_test = x_test.values.reshape(-1,1), y_test.values\n",
    "print(x_train.shape, x_test.shape, y_train.shape, y_test.shape)"
   ]
  },
  {
   "cell_type": "markdown",
   "metadata": {},
   "source": [
    "**Question 1:** Should we normalise/standardise the data here? Why or why not?"
   ]
  },
  {
   "cell_type": "code",
   "execution_count": 7,
   "metadata": {},
   "outputs": [],
   "source": [
    "# standardising values\n",
    "means = {'x': x_train.mean(), 'y': y_train.mean()}\n",
    "stds = {'x': x_train.std(), 'y': y_train.std()}\n",
    "\n",
    "x_train = (x_train - means['x'])/stds['x']\n",
    "y_train = (y_train - means['y'])/stds['y']\n",
    "\n",
    "x_test = (x_test - means['x'])/stds['x']\n",
    "y_test = (y_test - means['y'])/stds['y']"
   ]
  },
  {
   "cell_type": "markdown",
   "metadata": {},
   "source": [
    ">**Answer:** Standardising the data helps in faster convergence of optimisation algorithms, especially when building neural networks. Thus, we standardise our data."
   ]
  },
  {
   "cell_type": "markdown",
   "metadata": {},
   "source": [
    "**Question 2:** Would you use Logistic Regression for this data? Why/why not? "
   ]
  },
  {
   "cell_type": "markdown",
   "metadata": {},
   "source": [
    "> **Answer:** The response variable for this dataset is not binary. hence, I would refrain from using Logistic Regression"
   ]
  },
  {
   "cell_type": "markdown",
   "metadata": {},
   "source": [
    "### Fitting Polynomial Regression"
   ]
  },
  {
   "cell_type": "markdown",
   "metadata": {},
   "source": [
    "**Question 3:** Would you use polynomial regression for this data? Why/why not? If yes, what degree of polynomial would you pick? Why?"
   ]
  },
  {
   "cell_type": "markdown",
   "metadata": {},
   "source": [
    ">**Answer:** Looking at the data, it seems that there is a at least a quadratic relation between the predictor and response variables. Thus, I would want to experiment with polynomial regression.\n",
    "\n",
    ">I can see about 4 trends in the data distribution. So, I'd like to start experimenting with polynomials around degree 4."
   ]
  },
  {
   "cell_type": "markdown",
   "metadata": {},
   "source": [
    "Let us try fitting with different degrees of polynomials between 2-15."
   ]
  },
  {
   "cell_type": "code",
   "execution_count": 8,
   "metadata": {},
   "outputs": [],
   "source": [
    "# Fitting model with degree deg\n",
    "result_df = pd.DataFrame({'x_train': x_train[:,0], \n",
    "                          'y_train': y_train, \n",
    "                         })\n",
    "models_df = {}\n",
    "\n",
    "degrees = [3,5,10,15]\n",
    "\n",
    "for deg in degrees:\n",
    "\n",
    "    # Preparing data\n",
    "    poly = PolynomialFeatures(degree=deg, )\n",
    "    x_train_poly = poly.fit_transform(x_train)\n",
    "    x_test_poly = poly.fit_transform(x_test)\n",
    "\n",
    "    # Training\n",
    "    linreg = LinearRegression()\n",
    "    linreg.fit(x_train_poly, y_train)\n",
    "\n",
    "    # Predict and convert to binary responses\n",
    "    y_pred_train = linreg.predict(x_train_poly)\n",
    "    y_pred_test = linreg.predict(x_test_poly)\n",
    "\n",
    "    # Performance Evaluation\n",
    "    train_score = r2_score(y_train, y_pred_train)*100\n",
    "    test_score = r2_score(y_test, y_pred_test)*100\n",
    "    \n",
    "    # store in df\n",
    "    result_df['y_train_pred_{}'.format(deg)] = y_pred_train\n",
    "    models_df[deg] = [linreg, x_train_poly.shape, train_score, test_score]"
   ]
  },
  {
   "cell_type": "code",
   "execution_count": 9,
   "metadata": {},
   "outputs": [
    {
     "data": {
      "text/plain": [
       "<matplotlib.legend.Legend at 0x1c150379e8>"
      ]
     },
     "execution_count": 9,
     "metadata": {},
     "output_type": "execute_result"
    },
    {
     "data": {
      "image/png": "[encoded data removed]",
      "text/plain": [
       "<Figure size 432x288 with 1 Axes>"
      ]
     },
     "metadata": {},
     "output_type": "display_data"
    }
   ],
   "source": [
    "# Plotting results \n",
    "result_df = result_df.sort_values(by = 'x_train')\n",
    "plt.scatter(result_df.x_train, result_df.y_train, color='k', marker='*', label='Actual Values')\n",
    "\n",
    "for deg in degrees:\n",
    "    plt.plot(result_df.x_train, result_df['y_train_pred_{}'.format(deg)], '--', \n",
    "             label='Predicted Values for deg {}'.format(deg))\n",
    "    \n",
    "plt.title('Polyomial Regression for multiple degree')\n",
    "plt.legend()"
   ]
  },
  {
   "cell_type": "markdown",
   "metadata": {},
   "source": [
    "We see that both poynomials of degree 15 does a great job of capturing the data well. We choose the model with degree 15."
   ]
  },
  {
   "cell_type": "code",
   "execution_count": 10,
   "metadata": {},
   "outputs": [
    {
     "name": "stdout",
     "output_type": "stream",
     "text": [
      "Number of features: (75, 16)\n",
      "Training Set Accuracy: 99.99999999999255%\n",
      "Testing Set Accuracy: 99.99999999996537%\n"
     ]
    }
   ],
   "source": [
    "degree_chosen = 15\n",
    "print(\"Number of features:\",models_df[degree_chosen][1])\n",
    "print(\"Training Set Accuracy:\",str(models_df[degree_chosen][2])+'%')\n",
    "print(\"Testing Set Accuracy:\",str(models_df[degree_chosen][3])+'%')"
   ]
  },
  {
   "cell_type": "markdown",
   "metadata": {},
   "source": [
    "We observe that we require 16 features and a polynomial of degree 15 to model the data with nearly perfect accuracy."
   ]
  },
  {
   "cell_type": "markdown",
   "metadata": {},
   "source": [
    "# Let's now try to model this data using a Feed-Forward Neural Network"
   ]
  },
  {
   "cell_type": "markdown",
   "metadata": {},
   "source": [
    "**Question 4:** What is the shape of input and output arrays to the neural network?"
   ]
  },
  {
   "cell_type": "code",
   "execution_count": 11,
   "metadata": {},
   "outputs": [
    {
     "name": "stdout",
     "output_type": "stream",
     "text": [
      "(75, 1) (75,)\n"
     ]
    }
   ],
   "source": [
    "print(x_train.shape, y_train.shape)"
   ]
  },
  {
   "cell_type": "markdown",
   "metadata": {},
   "source": [
    "Let us construct a network with a single hidden layer. We will now define the parameters of our network. Let us choose the number of hidden layers to be 3."
   ]
  },
  {
   "cell_type": "code",
   "execution_count": 12,
   "metadata": {},
   "outputs": [],
   "source": [
    "input_dim = 1\n",
    "output_dim = 1\n",
    "\n",
    "num_hidden_layers = 1\n",
    "num_hidden_nodes = 3"
   ]
  },
  {
   "cell_type": "markdown",
   "metadata": {},
   "source": [
    "**Question 5:** What are the shapes of the weight matrices for the network?"
   ]
  },
  {
   "cell_type": "code",
   "execution_count": 13,
   "metadata": {},
   "outputs": [
    {
     "name": "stdout",
     "output_type": "stream",
     "text": [
      "WL0: (3,2)\n",
      "WL1: (1,4)\n"
     ]
    }
   ],
   "source": [
    "print(\"WL0: ({0},{1})\".format(num_hidden_nodes, input_dim+1))\n",
    "print(\"WL1: ({0},{1})\".format(output_dim, num_hidden_nodes+1))"
   ]
  },
  {
   "cell_type": "markdown",
   "metadata": {},
   "source": [
    "### Choosing an activation function"
   ]
  },
  {
   "cell_type": "markdown",
   "metadata": {},
   "source": [
    "**Question 6:** How do we pick an activation function for our neural network?"
   ]
  },
  {
   "cell_type": "markdown",
   "metadata": {},
   "source": [
    ">**Answer 6:** Activation functions are chosen based on the nature of the problem. We will cover more about this in lectures."
   ]
  },
  {
   "cell_type": "markdown",
   "metadata": {},
   "source": [
    "We will work with the sigmoid activation function here."
   ]
  },
  {
   "cell_type": "code",
   "execution_count": 14,
   "metadata": {},
   "outputs": [],
   "source": [
    "sigmoid = lambda x: (1/(1 + np.exp(-x)))"
   ]
  },
  {
   "cell_type": "markdown",
   "metadata": {},
   "source": [
    "Let's now create a feed-forward network with this activation function."
   ]
  },
  {
   "cell_type": "markdown",
   "metadata": {},
   "source": [
    "### Let us assign all 1s to initialise both WL0 and WL1"
   ]
  },
  {
   "cell_type": "code",
   "execution_count": 15,
   "metadata": {},
   "outputs": [
    {
     "name": "stdout",
     "output_type": "stream",
     "text": [
      "[[1. 1.]\n",
      " [1. 1.]\n",
      " [1. 1.]]\n",
      "[[1. 1. 1. 1.]]\n"
     ]
    }
   ],
   "source": [
    "# ASSIGNING WEIGHTS\n",
    "\n",
    "# all 1s\n",
    "WL0 = np.ones((num_hidden_nodes, input_dim+1))\n",
    "WL1 = np.ones((output_dim, num_hidden_nodes+1))                \n",
    "\n",
    "print(WL0);\n",
    "print(WL1)"
   ]
  },
  {
   "cell_type": "code",
   "execution_count": 15,
   "metadata": {
    "collapsed": true
   },
   "outputs": [],
   "source": [
    "# FORWARD PROPAGATION\n",
    "\n",
    "# input layer\n",
    "ones = np.ones((len(x_train),1))    \n",
    "L0 = x_train \n",
    "L0 = np.append(L0, ones, axis=1)\n",
    "\n",
    "# hidden layer\n",
    "a0 = np.dot(WL0, L0.T)\n",
    "z0 = {'sigmoid': sigmoid(a0)}\n",
    "\n",
    "# output layer \n",
    "ones = np.ones((len(y_train),1))\n",
    "z0['sigmoid'] = np.append(z0['sigmoid'].T, ones,axis=1).T\n",
    "\n",
    "# affine \n",
    "a1 = {'sigmoid': np.dot(WL1, z0['sigmoid'])}\n",
    "z1 = a1"
   ]
  },
  {
   "cell_type": "code",
   "execution_count": 16,
   "metadata": {},
   "outputs": [
    {
     "data": {
      "image/png": "[encoded data removed]",
      "text/plain": [
       "<matplotlib.figure.Figure at 0x11e358320>"
      ]
     },
     "metadata": {},
     "output_type": "display_data"
    }
   ],
   "source": [
    "# PLOTTING THE MODEL\n",
    "def plot_nn_models(result_df, title, sig):\n",
    "    result_df = result_df.sort_values(by = 'x_train')\n",
    "    plt.scatter(result_df.x_train, result_df.y_train, color='k', marker='*', label='Actual Values')\n",
    "    if sig:\n",
    "        plt.plot(result_df.x_train, result_df.y_pred_train_sigmoid, '--', label='Predicted Values using Sigmoid')\n",
    "    plt.title(title)\n",
    "    plt.legend()\n",
    "    return\n",
    "\n",
    "result_df = pd.DataFrame({'x_train': x_train[:,0], \n",
    "                          'y_train': y_train, \n",
    "                          'y_pred_train_sigmoid': z1['sigmoid'][0]\n",
    "                         })\n",
    "plot_nn_models(result_df, 'NN with arbitrary weights', True)"
   ]
  },
  {
   "cell_type": "markdown",
   "metadata": {},
   "source": [
    "**Question 7:** Does the current NN capture the trends in data? If no, how should we modify our network?"
   ]
  },
  {
   "cell_type": "markdown",
   "metadata": {},
   "source": [
    "> **Answer:** The network is not doing a good job at approximating the function well right now. We need to experiment and find out whether we need to change the weights, number of hidden nodes or number of hidden layers."
   ]
  },
  {
   "cell_type": "markdown",
   "metadata": {},
   "source": [
    "### Let us first adjust weights to try and find a model that matches our data well"
   ]
  },
  {
   "cell_type": "code",
   "execution_count": 17,
   "metadata": {},
   "outputs": [
    {
     "data": {
      "image/png": "[encoded data removed]",
      "text/plain": [
       "<matplotlib.figure.Figure at 0x11e342208>"
      ]
     },
     "metadata": {},
     "output_type": "display_data"
    }
   ],
   "source": [
    "# ASSIGNING WEIGHTS\n",
    "\n",
    "# Obtained using trial and error\n",
    "WL0 = {'sigmoid': np.array([[10,0.01], [13,-10], [0.1,20]])}\n",
    "WL1 = {'sigmoid': np.array([[1.75, -1.75, 1, -1]])}\n",
    "\n",
    "\n",
    "# FORWARD PROPAGATION\n",
    "\n",
    "# input layer\n",
    "ones = np.ones((len(x_train),1))    \n",
    "L0 = x_train \n",
    "L0 = np.append(L0, ones, axis=1)\n",
    "\n",
    "# hidden layer\n",
    "a0 = {'sigmoid': np.dot(WL0['sigmoid'], L0.T)}\n",
    "z0 = {'sigmoid': sigmoid(a0['sigmoid'])}\n",
    "\n",
    "# output layer \n",
    "ones = np.ones((len(y_train),1))\n",
    "z0['sigmoid'] = np.append(z0['sigmoid'].T, ones,axis=1).T\n",
    "\n",
    "# affine \n",
    "a1 = {'sigmoid': np.dot(WL1['sigmoid'], z0['sigmoid'])}\n",
    "z1 = a1\n",
    "\n",
    "\n",
    "# PLOTTING THE MODEL\n",
    "result_df = pd.DataFrame({'x_train': x_train[:,0], \n",
    "                          'y_train': y_train, \n",
    "                          'y_pred_train_sigmoid': z1['sigmoid'][0]\n",
    "                         })\n",
    "plot_nn_models(result_df, 'NN with arbitrary weights', True)"
   ]
  },
  {
   "cell_type": "markdown",
   "metadata": {},
   "source": [
    "With some adjusted weights (obtained by trial and error and logically observing which weight changes which part of approximation), we see that the sigmoid activation functions is doing a really good job at capturing the hump between `x=-0.2` to `x=1`. \n",
    "\n",
    "The weights obtained by our most suitable model having 3 hidden nodes are given below:"
   ]
  },
  {
   "cell_type": "code",
   "execution_count": 18,
   "metadata": {},
   "outputs": [
    {
     "name": "stdout",
     "output_type": "stream",
     "text": [
      "WL0: \n",
      " [[  1.00000000e+01   1.00000000e-02]\n",
      " [  1.30000000e+01  -1.00000000e+01]\n",
      " [  1.00000000e-01   2.00000000e+01]] \n",
      "\n",
      "WL1: \n",
      " [[ 1.75 -1.75  1.   -1.  ]]\n"
     ]
    }
   ],
   "source": [
    "print(\"WL0: \\n\", WL0['sigmoid'], \"\\n\")\n",
    "print(\"WL1: \\n\", WL1['sigmoid'])"
   ]
  },
  {
   "cell_type": "markdown",
   "metadata": {},
   "source": [
    "### Let us now increase the number of hidden nodes to 4 and use Sigmoid as our activation function to see if we can find a model that matches our data better"
   ]
  },
  {
   "cell_type": "code",
   "execution_count": 19,
   "metadata": {},
   "outputs": [
    {
     "name": "stdout",
     "output_type": "stream",
     "text": [
      "WL0: (4,2)\n",
      "WL1: (1,5)\n"
     ]
    }
   ],
   "source": [
    "# Re-defining the number of hidden nodes\n",
    "num_hidden_nodes = 4\n",
    "\n",
    "# Printing shape of weight vectors\n",
    "print(\"WL0: ({0},{1})\".format(num_hidden_nodes, input_dim+1))\n",
    "print(\"WL1: ({0},{1})\".format(output_dim, num_hidden_nodes+1))"
   ]
  },
  {
   "cell_type": "code",
   "execution_count": 20,
   "metadata": {},
   "outputs": [
    {
     "data": {
      "image/png": "[encoded data removed]",
      "text/plain": [
       "<matplotlib.figure.Figure at 0x11e56c898>"
      ]
     },
     "metadata": {},
     "output_type": "display_data"
    }
   ],
   "source": [
    "# ASSIGNING WEIGHTS\n",
    "\n",
    "# Obtained using trial and error\n",
    "WL0 = {'sigmoid': np.array([[10,1], [-5,-5], [14,-12], [-5,5]])}\n",
    "WL1 = {'sigmoid': np.array([[2, 1, -2.5, 0.5, -1]])}\n",
    "\n",
    "\n",
    "# FORWARD PROPAGATION\n",
    "\n",
    "# input layer\n",
    "ones = np.ones((len(x_train),1))    \n",
    "L0 = x_train \n",
    "L0 = np.append(L0, ones, axis=1)\n",
    "\n",
    "# hidden layer\n",
    "a0 = {'sigmoid': np.dot(WL0['sigmoid'], L0.T)}\n",
    "z0 = {'sigmoid': sigmoid(a0['sigmoid'])}\n",
    "\n",
    "# output layer \n",
    "ones = np.ones((len(y_train),1))\n",
    "z0['sigmoid'] = np.append(z0['sigmoid'].T, ones,axis=1).T\n",
    "\n",
    "# affine \n",
    "a1 = {'sigmoid': np.dot(WL1['sigmoid'], z0['sigmoid'])}\n",
    "z1 = a1\n",
    "\n",
    "\n",
    "# PLOTTING THE MODEL\n",
    "result_df = pd.DataFrame({'x_train': x_train[:,0], \n",
    "                          'y_train': y_train, \n",
    "                          'y_pred_train_sigmoid': z1['sigmoid'][0]\n",
    "                         })\n",
    "plot_nn_models(result_df, 'NN with arbitrary weights', True)"
   ]
  },
  {
   "cell_type": "markdown",
   "metadata": {},
   "source": [
    "After several trial and errors, we have found that adding an additional node helps the model generalise well on the second hump between `x=-1.5` and `x=0` also, adding to it's generalisation on the other hump as seen before. \n",
    "\n",
    "The weights obtained by our most suitable model having 4 hidden nodes are given below:"
   ]
  },
  {
   "cell_type": "code",
   "execution_count": 21,
   "metadata": {},
   "outputs": [
    {
     "name": "stdout",
     "output_type": "stream",
     "text": [
      "WL0: \n",
      " [[ 10   1]\n",
      " [ -5  -5]\n",
      " [ 14 -12]\n",
      " [ -5   5]] \n",
      "\n",
      "WL1: \n",
      " [[ 2.   1.  -2.5  0.5 -1. ]]\n"
     ]
    }
   ],
   "source": [
    "WL0_best, WL1_best = WL0['sigmoid'], WL1['sigmoid']\n",
    "\n",
    "print(\"WL0: \\n\", WL0_best, \"\\n\")\n",
    "print(\"WL1: \\n\", WL1_best)"
   ]
  },
  {
   "cell_type": "markdown",
   "metadata": {},
   "source": [
    "**Similarly, can we improve our function fit by increasing the number of hidden nodes?**"
   ]
  },
  {
   "cell_type": "markdown",
   "metadata": {},
   "source": [
    "# Performance of NN"
   ]
  },
  {
   "cell_type": "markdown",
   "metadata": {},
   "source": [
    "**Question 8:** So far, we are qualitatively determining if our feed-forward neural network models our data well. Can we quantitaively determine this? How?"
   ]
  },
  {
   "cell_type": "markdown",
   "metadata": {},
   "source": [
    ">**Answer: ** Yes! We can quantitatively determine the performance of our model by choose the metric we want to use. Let's use the MSE values to determine the loss from our model (as we have done in cases of regression before). The loss, as we know, indicated how well our model fits the data. Look up other loss functions used by neual networks here: https://ml-cheatsheet.readthedocs.io/en/latest/loss_functions.html\n",
    "\n",
    "> What metric would you use if the data had categorical target variables?"
   ]
  },
  {
   "cell_type": "markdown",
   "metadata": {},
   "source": [
    "Let us calculate the loss from our network."
   ]
  },
  {
   "cell_type": "code",
   "execution_count": 22,
   "metadata": {},
   "outputs": [
    {
     "name": "stdout",
     "output_type": "stream",
     "text": [
      "3.10369819692\n"
     ]
    }
   ],
   "source": [
    "loss = sum((result_df.y_pred_train_sigmoid - result_df.y_train)**2)\n",
    "print(loss)"
   ]
  },
  {
   "cell_type": "markdown",
   "metadata": {},
   "source": [
    "**Question 9:** Lets transport back in time to our favourite calculus lessons. How do we minimise the loss of any function approximation?"
   ]
  },
  {
   "cell_type": "markdown",
   "metadata": {},
   "source": [
    ">**Answer** One way to do this is by adjusting the function approximation parameters using a technique called gradient descent. \n",
    "\n",
    "> We have also covred gradient descent in the previous lecture. Look at the slides for Lecture 12 for reference."
   ]
  },
  {
   "cell_type": "markdown",
   "metadata": {},
   "source": [
    "Let us explore gradient descent below."
   ]
  },
  {
   "cell_type": "markdown",
   "metadata": {},
   "source": [
    "### Gradient Descent"
   ]
  },
  {
   "cell_type": "markdown",
   "metadata": {},
   "source": [
    "**Theory**\n",
    "\n",
    "At any point in one dimension, a function's derivative tells us whether increasing the input will increase the function (positive derivative) or decrease the function (negative derivative). The derivative also tells us how much we think the function will increase/decrease for a small change in the input. We're being told which direction we want to move in, and how strongly we want to make that move.\n",
    "\n",
    "With multiple inputs, we can take a derivative with respect to any of the inputs, but the result still holds. Let's say the derivative with respect to `input1` is `+k1` and the derivative with respect to `input2` is `-k2`? We still want to increase `input1` and decrease `input2`... but by how much? It turns out that a ratio of `k1:k2` (exactly what the derivatives told us) is optimal, at least near our current point. So we say `new_point = old_point + .01 * (k1,-k2)`. Thus, we increase the first input by `.01 * k1` and decrease the second input by `.01 * k2`, and then ask about the derivatives at the new point to make further update."
   ]
  },
  {
   "cell_type": "markdown",
   "metadata": {},
   "source": [
    "**Example showing use of gradient descent to find function minima using approximation**\n",
    "\n",
    "Let us define a function `f(x) = sin(x) + cos(x)` and guess that it has a minimum value of `f(x) = -1` at parameter value `x_min = 1`. Let us now use gradient descent to optimize the approximation of `x_min`."
   ]
  },
  {
   "cell_type": "code",
   "execution_count": 23,
   "metadata": {
    "collapsed": true
   },
   "outputs": [],
   "source": [
    "# inline function for f(x)\n",
    "f = lambda x: np.sin(x) + np.cos(x)"
   ]
  },
  {
   "cell_type": "markdown",
   "metadata": {},
   "source": [
    "We calculate the gradient of `f(x)` wrt `x` to be `f'(x) = cos(x) - sin(x)`."
   ]
  },
  {
   "cell_type": "code",
   "execution_count": 24,
   "metadata": {
    "collapsed": true
   },
   "outputs": [],
   "source": [
    "# inline function for df/dx\n",
    "der_f_x = lambda x: np.cos(x) - np.sin(x)"
   ]
  },
  {
   "cell_type": "markdown",
   "metadata": {},
   "source": [
    "We calculate the gradient at `x_min` and update its approximation for 1000 iterations to see how the values change."
   ]
  },
  {
   "cell_type": "code",
   "execution_count": 25,
   "metadata": {},
   "outputs": [
    {
     "data": {
      "text/plain": [
       "<matplotlib.text.Text at 0x11ea9d4a8>"
      ]
     },
     "execution_count": 25,
     "metadata": {},
     "output_type": "execute_result"
    },
    {
     "data": {
      "image/png": "[encoded data removed]",
      "text/plain": [
       "<matplotlib.figure.Figure at 0x11e8cb828>"
      ]
     },
     "metadata": {},
     "output_type": "display_data"
    }
   ],
   "source": [
    "x_n_minus_1 = 1\n",
    "f_x_min = -1\n",
    "x_vals = [x_n_minus_1]\n",
    "errors = []\n",
    "\n",
    "l = 0.01 # learning rate\n",
    "\n",
    "for i in range(1000):\n",
    "    gradient_eval = der_f_x(x_n_minus_1) # evaluating gradient at x_(n-1), i.e. previous parameter approximation\n",
    "    x_n = x_n_minus_1 + l*gradient_eval # updating approximation of x_min\n",
    "    f_eval = f(x_n) # evaluating function at new point\n",
    "    error = f_eval - f_x_min # finding error in approximation\n",
    "    \n",
    "    errors.append(error) # storing values of error\n",
    "    x_vals.append(x_n) # storing values of x_min\n",
    "    \n",
    "    x_n_minus_1 = x_n # x_n is the previous step now\n",
    "    \n",
    "    \n",
    "figure, ax = plt.subplots(1, 2, figsize=(18,6))\n",
    "ax[0].plot(range(1001), x_vals)\n",
    "ax[0].set_xlabel('step')\n",
    "ax[0].set_ylabel('x_min')\n",
    "ax[1].set_title('Gradient Descent')\n",
    "\n",
    "ax[1].plot(range(1000), errors)\n",
    "ax[1].set_xlabel('step')\n",
    "ax[1].set_ylabel('error')\n",
    "ax[1].set_title('Gradient Descent')"
   ]
  },
  {
   "cell_type": "markdown",
   "metadata": {},
   "source": [
    "We can observe that the error and `x_min` approximation values stop changing after around 300 approximations, i.e. the approximated value of `x_min` has become nearly static. Let us see what these approximated values are."
   ]
  },
  {
   "cell_type": "code",
   "execution_count": 26,
   "metadata": {},
   "outputs": [
    {
     "name": "stdout",
     "output_type": "stream",
     "text": [
      "x_min =  0.785398303888\n",
      "error =  2.41421356237\n"
     ]
    }
   ],
   "source": [
    "print('x_min = ', x_vals[-1])\n",
    "print('error = ', error)"
   ]
  },
  {
   "cell_type": "markdown",
   "metadata": {},
   "source": [
    "**Question 10:** How do we determine the number of steps taken to reach our optimal weight values?"
   ]
  },
  {
   "cell_type": "markdown",
   "metadata": {},
   "source": [
    ">**Answer:** Another way to perform gradient descent is to define a threshold and stop iterating when the values change becomes smaller than this threshold value. Let us do this to find the number of steps taken to reach the optimal value."
   ]
  },
  {
   "cell_type": "code",
   "execution_count": 27,
   "metadata": {},
   "outputs": [
    {
     "name": "stdout",
     "output_type": "stream",
     "text": [
      "Number of steps =  79\n"
     ]
    }
   ],
   "source": [
    "x_n_minus_1 = 1\n",
    "f_x_min = -1\n",
    "x_vals = [x_n_minus_1]\n",
    "errors = []\n",
    "\n",
    "l = 0.01 # learning rate\n",
    "error = 1\n",
    "step = 0\n",
    "threshold = 0.0001\n",
    "\n",
    "while True:\n",
    "    gradient_eval = der_f_x(x_n_minus_1) # evaluating gradient at x_(n-1), i.e. previous parameter approximation\n",
    "    x_n = x_n_minus_1 + l*gradient_eval # updating approximation of x_min\n",
    "    f_eval = f(x_n) # evaluating function at new point\n",
    "    error = f_eval - f_x_min # finding error in approximation\n",
    "    \n",
    "    errors.append(error) # storing values of error\n",
    "    x_vals.append(x_n) # storing values of x_min\n",
    "    \n",
    "    x_n_minus_1 = x_n # x_n is the previous step now\n",
    "    step += 1\n",
    "    \n",
    "    if abs(f_eval - f(x_vals[step-1])) < threshold: break\n",
    "    \n",
    "print('Number of steps = ', step)"
   ]
  },
  {
   "cell_type": "markdown",
   "metadata": {},
   "source": [
    "Thus, we see that with a learning rate of 0.01, it took us 79 steps to reach optimal values of our parameter."
   ]
  },
  {
   "cell_type": "markdown",
   "metadata": {},
   "source": [
    "**Question 11:** How was this learning rate chosen?"
   ]
  },
  {
   "cell_type": "markdown",
   "metadata": {},
   "source": [
    ">**Answer** Here, the choice of the 'learning rate' (lr) as .01 was arbitrary: bigger values of learning rates let us move more quickly towards the optimal value, but will be less accurate. Small learning rates are safe, but slow, while rates that are too big will fail to converge. Finding the right value is tricky and often times in complex problems, people experiment with many values of lr."
   ]
  },
  {
   "cell_type": "markdown",
   "metadata": {},
   "source": [
    "Gradient descent can performed on weights of neural networks to determine their optimal values that can yield the highest network accuracies."
   ]
  },
  {
   "cell_type": "markdown",
   "metadata": {},
   "source": [
    "### Testing on Unseen Data"
   ]
  },
  {
   "cell_type": "markdown",
   "metadata": {},
   "source": [
    "Let us now check the performance of our NN on unseen test data, using our observations and optimal weight values from above."
   ]
  },
  {
   "cell_type": "code",
   "execution_count": 28,
   "metadata": {
    "collapsed": true
   },
   "outputs": [],
   "source": [
    "# WL0_best and WL1_best are the best weight values we have obtained\n",
    "# We have trained the network using x_train above\n",
    "# We now apply the same transformatons on x_test\n",
    "\n",
    "# input layer\n",
    "ones = np.ones((len(x_test),1))    \n",
    "L0 = x_test \n",
    "L0 = np.append(L0, ones, axis=1)\n",
    "\n",
    "# hidden layer\n",
    "a0 = np.dot(WL0_best, L0.T)\n",
    "z0 = sigmoid(a0)\n",
    "\n",
    "# output layer \n",
    "ones = np.ones((len(y_test),1))\n",
    "z0 = np.append(z0.T, ones,axis=1).T\n",
    "\n",
    "# affine with sigmoid\n",
    "a1 = np.dot(WL1_best, z0)\n",
    "z1 = a1 \n",
    "y_pred_test = z1  # THIS IS THE OUTPUT FOR TEST DATA"
   ]
  },
  {
   "cell_type": "code",
   "execution_count": 29,
   "metadata": {},
   "outputs": [
    {
     "name": "stdout",
     "output_type": "stream",
     "text": [
      "Training Set Accuracy: 95.8617357374%\n",
      "Testing Set Accuracy: 96.3285378691%\n"
     ]
    }
   ],
   "source": [
    "# Performance Evaluation\n",
    "train_score = r2_score(y_train, result_df.y_pred_train_sigmoid)*100 # THIS WAS FOUND ABOVE ALREADY\n",
    "test_score = r2_score(y_test, y_pred_test[0])*100\n",
    "\n",
    "print(\"Training Set Accuracy:\",str(train_score)+'%')\n",
    "print(\"Testing Set Accuracy:\",str(test_score)+'%')"
   ]
  },
  {
   "cell_type": "markdown",
   "metadata": {},
   "source": [
    "**We can observe that our manually constructed feed-forward neural network gave us comparable results to the polynomial model constructed before. Here, we adjusted 13 parameters with a single input feature, compared to 16 parameters and 15 features in the polynomial model.**"
   ]
  },
  {
   "cell_type": "code",
   "execution_count": null,
   "metadata": {
    "collapsed": true
   },
   "outputs": [],
   "source": []
  }
 ],
 "metadata": {
  "anaconda-cloud": {},
  "kernelspec": {
   "display_name": "Python 3",
   "language": "python",
   "name": "python3"
  },
  "language_info": {
   "codemirror_mode": {
    "name": "ipython",
    "version": 3
   },
   "file_extension": ".py",
   "mimetype": "text/x-python",
   "name": "python",
   "nbconvert_exporter": "python",
   "pygments_lexer": "ipython3",
   "version": "3.6.5"
  }
 },
 "nbformat": 4,
 "nbformat_minor": 1
}
