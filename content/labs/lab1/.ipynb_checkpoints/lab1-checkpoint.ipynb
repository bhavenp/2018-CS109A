{
 "cells": [
  {
   "cell_type": "markdown",
   "metadata": {},
   "source": [
    "# <img style=\"float: left; padding-right: 10px; width: 45px\" src=\"https://raw.githubusercontent.com/Harvard-IACS/2018-CS109A/master/content/styles/iacs.png\"> CS-109A Introduction to Data Science \n",
    "\n",
    "\n",
    "## Lab 1: Introduction to Python and its Numerical Stack\n",
    "\n",
    "**Harvard University**<br>\n",
    "**Fall 2018**<br>\n",
    "**Instructors:** Pavlos Protopapas and Kevin Rader <br>\n",
    "**Lab Instructor:** Rahul Dave <br>\n",
    "**Authors:** Rahul Dave, David Sondak, Will Claybaugh, Pavlos Protopapas\n",
    "\n",
    "\n",
    "---\n",
    "\n"
   ]
  },
  {
   "cell_type": "code",
   "execution_count": 1,
   "metadata": {},
   "outputs": [
    {
<<<<<<< HEAD
     "data": {
      "text/html": [
       "<style>\n",
       "h1 { \n",
       "    padding-top: 25px;\n",
       "    padding-bottom: 25px;\n",
       "    text-align: left; \n",
       "    padding-left: 10px;\n",
       "    background-color: #DDDDDD; \n",
       "    color: black;\n",
       "}\n",
       "h2 { \n",
       "    padding-top: 10px;\n",
       "    padding-bottom: 10px;\n",
       "    text-align: left; \n",
       "    padding-left: 5px;\n",
       "    background-color: #EEEEEE; \n",
       "    color: black;\n",
       "}\n",
       "\n",
       "div.exercise {\n",
       "\tbackground-color: #ffcccc;\n",
       "\tborder-color: #E9967A; \t\n",
       "\tborder-left: 5px solid #800080; \n",
       "\tpadding: 0.5em;\n",
       "}\n",
       "div.theme {\n",
       "\tbackground-color: #DDDDDD;\n",
       "\tborder-color: #E9967A; \t\n",
       "\tborder-left: 5px solid #800080; \n",
       "\tpadding: 0.5em;\n",
       "\tfont-size: 18pt;\n",
       "}\n",
       "p.q1 { \n",
       "    padding-top: 5px;\n",
       "    padding-bottom: 5px;\n",
       "    text-align: left; \n",
       "    padding-left: 5px;\n",
       "    background-color: #EEEEEE; \n",
       "    color: black;\n",
       "}\n",
       "header {\n",
       "   padding-top: 35px;\n",
       "    padding-bottom: 35px;\n",
       "    text-align: left; \n",
       "    padding-left: 10px;\n",
       "    background-color: #DDDDDD; \n",
       "    color: black;\n",
       "}\n",
       "</style>\n",
       "\n"
      ],
      "text/plain": [
       "<IPython.core.display.HTML object>"
      ]
     },
     "execution_count": 1,
     "metadata": {},
     "output_type": "execute_result"
=======
     "name": "stdout",
     "output_type": "stream",
     "text": [
      "hello\n"
     ]
>>>>>>> ab246e962ec27508db102ecb40e53d343b8f2115
    }
   ],
   "source": [
    "## RUN THIS CELL TO GET THE RIGHT FORMATTING \n",
    "import requests\n",
    "from IPython.core.display import HTML\n",
    "styles = requests.get(\"https://raw.githubusercontent.com/Harvard-IACS/2018-CS109A/master/content/styles/cs109.css\").text\n",
<<<<<<< HEAD
    "HTML(styles)"
=======
    "HTML(styles)\n",
    "\n",
    "print('hello')"
>>>>>>> ab246e962ec27508db102ecb40e53d343b8f2115
   ]
  },
  {
   "cell_type": "markdown",
   "metadata": {},
   "source": [
    "## Programming Expectations\n",
    "All assignments for this class will use Python and the browser-based iPython notebook format you are currently viewing. Python experience is not a prerequisite for this course, as long as you are comfortable learning on your own as needed. \n",
    "\n",
    "Note though that the **programming at the level of CS 50 is a prerequisite** for this course.   If you have concerns about the prerequisite, please come speak with any of the instructors. \n",
    "\n",
    " We will refer to the Python 3 [documentation](https://docs.python.org/3/) in this lab and throughout the course.  There are also many introductory tutorials to help build programming skills, which we are listed in the last section of this lab."
   ]
  },
  {
   "cell_type": "markdown",
   "metadata": {},
   "source": [
    "## Table of Contents \n",
    "<ol start=\"0\">\n",
    "<li> Learning Goals </li>\n",
    "<li> Getting Started</li>\n",
    "<li> Lists </li>\n",
    "<li> Simple Functions </li>\n",
    "<li> Numpy</li>\n",
    "<li> Scipy.stats and plotting distributions</li>\n",
    "<li> Conclusions </li>\n",
    "</ol>\n",
    "\n",
    "### Additional Stuff\n",
    "\n",
    "<ol start=\"99\">\n",
    "<li> Dictionaries </li>\n",
    "<li> Reading CSVs using pandas </li>\n",
    "</ol>"
   ]
  },
  {
   "cell_type": "markdown",
   "metadata": {},
   "source": [
    "## Learning Goals \n",
    "This introductory lab is a condensed introduction to Python numerical programming.  By the end of this lab, you will feel more comfortable:\n",
    "\n",
    "- Writing short Python code using functions, loops, lists, numpy arrays, and dictionaries.\n",
    "\n",
    "- Manipulating Python lists and numpy arrays and understanding the difference between them.\n",
    "\n",
    "- Using probability distributions from `scipy.stats`\n",
    "\n",
    "- Making very simple plots using `matplotlib`\n",
    "\n",
    "- Reading and writing CSV files using `pandas`\n",
    "\n",
    "- Learning and reading Python documentation.  \n",
    "\n",
    "*Lab 1 relates to material in lecture 0,1,2,3 and homework 0.*"
   ]
  },
  {
   "cell_type": "markdown",
   "metadata": {},
   "source": [
    "## Part 1: Getting Started"
   ]
  },
  {
   "cell_type": "markdown",
   "metadata": {},
   "source": [
    "### Importing modules\n",
    "All notebooks should begin with code that imports *modules*, collections of built-in, commonly-used Python functions.  Below we import the Numpy module, a fast numerical programming library for scientific computing.  Future labs will require additional modules, which we'll import with the same `import MODULE_NAME as MODULE_NICKNAME` syntax."
   ]
  },
  {
   "cell_type": "code",
   "execution_count": 2,
   "metadata": {},
   "outputs": [],
   "source": [
    "import numpy as np #imports a fast numerical programming library"
   ]
  },
  {
   "cell_type": "markdown",
   "metadata": {},
   "source": [
    "Now that Numpy has been imported, we can access some useful functions.  For example, we can use `mean` to calculate the mean of a set of numbers."
   ]
  },
  {
   "cell_type": "code",
   "execution_count": 3,
   "metadata": {},
<<<<<<< HEAD
   "outputs": [
    {
     "data": {
      "text/plain": [
       "2.1666666666666665"
      ]
     },
     "execution_count": 3,
     "metadata": {},
     "output_type": "execute_result"
    }
   ],
=======
   "outputs": [],
>>>>>>> ab246e962ec27508db102ecb40e53d343b8f2115
   "source": [
    "np.mean([1.2, 2, 3.3])"
   ]
  },
  {
   "cell_type": "markdown",
   "metadata": {},
   "source": [
    "to calculate the mean of 1.2, 2, and 3.3."
   ]
  },
  {
   "cell_type": "markdown",
   "metadata": {},
   "source": [
    "The code above is not particularly efficient, and efficiency will be important for you when dealing with large data sets. Later and in lab 2 we will see more efficient options."
   ]
  },
  {
   "cell_type": "markdown",
   "metadata": {},
   "source": [
    "### Calculations and variables"
   ]
  },
  {
   "cell_type": "code",
<<<<<<< HEAD
   "execution_count": 5,
   "metadata": {},
   "outputs": [
    {
     "data": {
      "text/plain": [
       "(0.5, 0, 0.5, 9.600000000000001)"
      ]
     },
     "execution_count": 5,
     "metadata": {},
     "output_type": "execute_result"
    }
   ],
=======
   "execution_count": 4,
   "metadata": {},
   "outputs": [],
>>>>>>> ab246e962ec27508db102ecb40e53d343b8f2115
   "source": [
    "# // is integer division\n",
    "1/2, 1//2, 1.0/2.0, 3*3.2"
   ]
  },
  {
   "cell_type": "markdown",
   "metadata": {},
   "source": [
    "The last line in a cell is returned as the output value, as above.  For cells with multiple lines of results, we can display results using ``print``, as can be seen below."
   ]
  },
  {
   "cell_type": "code",
<<<<<<< HEAD
   "execution_count": 6,
   "metadata": {},
   "outputs": [
    {
     "name": "stdout",
     "output_type": "stream",
     "text": [
      "4.0 \n",
      " 9 7\n"
     ]
    },
    {
     "data": {
      "text/plain": [
       "1.6666666666666667"
      ]
     },
     "execution_count": 6,
     "metadata": {},
     "output_type": "execute_result"
    }
   ],
=======
   "execution_count": 5,
   "metadata": {},
   "outputs": [],
>>>>>>> ab246e962ec27508db102ecb40e53d343b8f2115
   "source": [
    "print(1 + 3.0, \"\\n\", 9, 7)\n",
    "5/3"
   ]
  },
  {
   "cell_type": "markdown",
   "metadata": {},
   "source": [
    "We can store integer or floating point values as variables.  The other basic Python data types -- booleans, strings, lists -- can also be stored as variables. \n",
    "\n",
    "(more on types here: http://www.diveintopython3.net/native-datatypes.html)"
   ]
  },
  {
   "cell_type": "code",
<<<<<<< HEAD
   "execution_count": 7,
=======
   "execution_count": 6,
>>>>>>> ab246e962ec27508db102ecb40e53d343b8f2115
   "metadata": {},
   "outputs": [],
   "source": [
    "a = 1\n",
    "b = 2.0"
   ]
  },
  {
   "cell_type": "markdown",
   "metadata": {},
   "source": [
    "Here is the storing of a list (more about what a list is later):"
   ]
  },
  {
   "cell_type": "code",
<<<<<<< HEAD
   "execution_count": 8,
=======
   "execution_count": 7,
>>>>>>> ab246e962ec27508db102ecb40e53d343b8f2115
   "metadata": {},
   "outputs": [],
   "source": [
    "a = [1, 2, 3]"
   ]
  },
  {
   "cell_type": "markdown",
   "metadata": {},
   "source": [
    "Think of a variable as a label for a value, not a box in which you put the value\n",
    "\n",
    "![](images/sticksnotboxes.png)\n",
    "\n",
    "(image taken from Fluent Python by Luciano Ramalho)"
   ]
  },
  {
   "cell_type": "code",
<<<<<<< HEAD
   "execution_count": 9,
   "metadata": {},
   "outputs": [
    {
     "data": {
      "text/plain": [
       "[1, 2, 3]"
      ]
     },
     "execution_count": 9,
     "metadata": {},
     "output_type": "execute_result"
    }
   ],
=======
   "execution_count": 8,
   "metadata": {},
   "outputs": [],
>>>>>>> ab246e962ec27508db102ecb40e53d343b8f2115
   "source": [
    "b = a\n",
    "b"
   ]
  },
  {
   "cell_type": "markdown",
   "metadata": {},
   "source": [
    "This DOES NOT create a new copy of `a`. It merely puts a new label on the memory at a, as can be seen by the following code:"
   ]
  },
  {
   "cell_type": "code",
<<<<<<< HEAD
   "execution_count": 10,
   "metadata": {},
   "outputs": [
    {
     "name": "stdout",
     "output_type": "stream",
     "text": [
      "a [1, 2, 3]\n",
      "b [1, 2, 3]\n",
      "a after change [1, 7, 3]\n",
      "b after change [1, 7, 3]\n"
     ]
    }
   ],
=======
   "execution_count": 9,
   "metadata": {},
   "outputs": [],
>>>>>>> ab246e962ec27508db102ecb40e53d343b8f2115
   "source": [
    "print(\"a\", a)\n",
    "print(\"b\", b)\n",
    "a[1] = 7\n",
    "print(\"a after change\", a)\n",
    "print(\"b after change\", b)"
   ]
  },
  {
   "cell_type": "markdown",
   "metadata": {},
   "source": [
    "**Tuples**\n",
    "\n",
    "Multiple items on one line in the interface are returned as a *tuple*, an immutable sequence of Python objects."
   ]
  },
  {
   "cell_type": "code",
<<<<<<< HEAD
   "execution_count": 11,
   "metadata": {},
   "outputs": [
    {
     "data": {
      "text/plain": [
       "(2, -1.0, 4.0, 10)"
      ]
     },
     "execution_count": 11,
     "metadata": {},
     "output_type": "execute_result"
    }
   ],
=======
   "execution_count": 10,
   "metadata": {},
   "outputs": [],
>>>>>>> ab246e962ec27508db102ecb40e53d343b8f2115
   "source": [
    "a = 1\n",
    "b = 2.0\n",
    "a + a, a - b, b * b, 10*a"
   ]
  },
  {
   "cell_type": "markdown",
   "metadata": {},
   "source": [
    "We can obtain the type of a variable, and use boolean comparisons to test these types. "
   ]
  },
  {
   "cell_type": "code",
<<<<<<< HEAD
   "execution_count": 12,
   "metadata": {},
   "outputs": [
    {
     "data": {
      "text/plain": [
       "False"
      ]
     },
     "execution_count": 12,
     "metadata": {},
     "output_type": "execute_result"
    }
   ],
=======
   "execution_count": 11,
   "metadata": {},
   "outputs": [],
>>>>>>> ab246e962ec27508db102ecb40e53d343b8f2115
   "source": [
    "type(a) == float"
   ]
  },
  {
   "cell_type": "code",
<<<<<<< HEAD
   "execution_count": 13,
   "metadata": {},
   "outputs": [
    {
     "data": {
      "text/plain": [
       "True"
      ]
     },
     "execution_count": 13,
     "metadata": {},
     "output_type": "execute_result"
    }
   ],
=======
   "execution_count": 12,
   "metadata": {},
   "outputs": [],
>>>>>>> ab246e962ec27508db102ecb40e53d343b8f2115
   "source": [
    "type(a) == int"
   ]
  },
  {
   "cell_type": "markdown",
   "metadata": {},
   "source": [
    "For reference, below are common arithmetic and comparison operations.\n",
    "\n",
    "<img src=\"images/ops1_v2.png\" alt=\"Drawing\" style=\"width: 600px;\"/>\n",
    "\n",
    "<img src=\"images/ops2_v2.png\" alt=\"Drawing\" style=\"width: 650px;\"/>"
   ]
  },
  {
   "cell_type": "markdown",
   "metadata": {},
   "source": [
    "<div class='exercise'> <b> EXERCISE**:  Create a tuple called `tup` with the following seven objects: </b></div>.\n",
    "\n",
    "> - The first element is an integer of your choice\n",
    "> - The second element is a float of your choice  \n",
    "> - The third element is the sum of the first two elements\n",
    "> - The fourth element is the difference of the first two elements\n",
    "> - The fifth element is first element divided by the second element\n",
    "\n",
    "> Display the output of `tup`.  What is the type of the variable `tup`? What happens if you try and chage an item in the tuple? "
   ]
  },
  {
   "cell_type": "code",
<<<<<<< HEAD
   "execution_count": 18,
   "metadata": {},
   "outputs": [
    {
     "name": "stdout",
     "output_type": "stream",
     "text": [
      "(1, 2.3, 3.3, -1.2999999999999998, 0.4347826086956522)\n"
     ]
    }
   ],
   "source": [
    "a=1;\n",
    "b=2.3\n",
    "tup = (a, b, a+b, a-b, a/b);\n",
    "print(tup)\n",
    "\n",
    "\n"
=======
   "execution_count": 13,
   "metadata": {},
   "outputs": [],
   "source": [
    "# your code here\n"
>>>>>>> ab246e962ec27508db102ecb40e53d343b8f2115
   ]
  },
  {
   "cell_type": "markdown",
   "metadata": {},
   "source": [
    "## Part 2: Lists\n",
    "\n",
    "Much of Python is based on the notion of a list.  In Python, a list is a sequence of items separated by commas, all within square brackets.  The items can be integers, floating points, or another type.  Unlike in C arrays, items in a Python list can be different types, so Python lists are more versatile than traditional arrays in C or in other languages. \n",
    "\n",
    "Let's start out by creating a few lists.  "
   ]
  },
  {
   "cell_type": "code",
<<<<<<< HEAD
   "execution_count": 19,
   "metadata": {},
   "outputs": [
    {
     "name": "stdout",
     "output_type": "stream",
     "text": [
      "[]\n",
      "[1, 2, 3, 4, 5, 6, 7, 8, 9, 10]\n",
      "[1, 2.0, 3, 4.0, 5] [1.0, 3.0, 5.0, 4.0, 2.0]\n"
     ]
    }
   ],
=======
   "execution_count": 14,
   "metadata": {},
   "outputs": [],
>>>>>>> ab246e962ec27508db102ecb40e53d343b8f2115
   "source": [
    "empty_list = []\n",
    "float_list = [1., 3., 5., 4., 2.]\n",
    "int_list = [1, 2, 3, 4, 5, 6, 7, 8, 9, 10]\n",
    "mixed_list = [1, 2., 3, 4., 5]\n",
    "print(empty_list)\n",
    "print(int_list)\n",
    "print(mixed_list, float_list)"
   ]
  },
  {
   "cell_type": "markdown",
   "metadata": {},
   "source": [
    "Lists in Python are zero-indexed, as in C.  The first entry of the list has index 0, the second has index 1, and so on."
   ]
  },
  {
   "cell_type": "code",
   "execution_count": 15,
   "metadata": {},
   "outputs": [],
   "source": [
    "print(int_list[0])\n",
    "print(float_list[1])"
   ]
  },
  {
   "cell_type": "markdown",
   "metadata": {},
   "source": [
    "What happens if we try to use an index that doesn't exist for that list?  Python will complain!"
   ]
  },
  {
   "cell_type": "code",
   "execution_count": 16,
   "metadata": {},
   "outputs": [],
   "source": [
    "print(float_list[10])"
   ]
  },
  {
   "cell_type": "markdown",
   "metadata": {},
   "source": [
    "You can find the length of a list using the builtin function `len`:"
   ]
  },
  {
   "cell_type": "code",
   "execution_count": 17,
   "metadata": {},
   "outputs": [],
   "source": [
    "print(float_list)\n",
    "len(float_list)"
   ]
  },
  {
   "cell_type": "markdown",
   "metadata": {},
   "source": [
    "### Indexing on lists"
   ]
  },
  {
   "cell_type": "markdown",
   "metadata": {},
   "source": [
    "And since Python is zero-indexed, the last element of `float_list` is"
   ]
  },
  {
   "cell_type": "code",
   "execution_count": 18,
   "metadata": {},
   "outputs": [],
   "source": [
    "float_list[len(float_list)-1]"
   ]
  },
  {
   "cell_type": "markdown",
   "metadata": {},
   "source": [
    "It is more idiomatic in python to use -1 for the last element, -2 for the second last, and so on"
   ]
  },
  {
   "cell_type": "code",
   "execution_count": 19,
   "metadata": {},
   "outputs": [],
   "source": [
    "float_list[-1]"
   ]
  },
  {
   "cell_type": "markdown",
   "metadata": {},
   "source": [
    "We can use the ``:`` operator to access a subset of the list.  This is called *slicing.* "
   ]
  },
  {
   "cell_type": "code",
   "execution_count": 20,
   "metadata": {},
   "outputs": [],
   "source": [
    "print(float_list[1:5])\n",
    "print(float_list[0:2])"
   ]
  },
  {
   "cell_type": "markdown",
   "metadata": {},
   "source": [
    "Below is a summary of list slicing operations:\n",
    "\n",
    "<img src=\"images/ops3_v2.png\" alt=\"Drawing\" style=\"width: 600px;\"/>"
   ]
  },
  {
   "cell_type": "markdown",
   "metadata": {},
   "source": [
    "You can slice \"backwards\" as well:"
   ]
  },
  {
   "cell_type": "code",
   "execution_count": 21,
   "metadata": {},
   "outputs": [],
   "source": [
    "float_list[:-2] # up to second last"
   ]
  },
  {
   "cell_type": "code",
   "execution_count": 22,
   "metadata": {},
   "outputs": [],
   "source": [
    "float_list[:4] # up to but not including 5th element"
   ]
  },
  {
   "cell_type": "markdown",
   "metadata": {},
   "source": [
    "You can also slice with a stride:"
   ]
  },
  {
   "cell_type": "code",
   "execution_count": 23,
   "metadata": {},
   "outputs": [],
   "source": [
    "float_list[:4:2] # above but skipping every second element"
   ]
  },
  {
   "cell_type": "markdown",
   "metadata": {},
   "source": [
    "We can iterate through a list using a loop.  Here's a for loop."
   ]
  },
  {
   "cell_type": "code",
   "execution_count": 24,
   "metadata": {},
   "outputs": [],
   "source": [
    "for ele in float_list:\n",
    "    print(ele)"
   ]
  },
  {
   "cell_type": "markdown",
   "metadata": {},
   "source": [
    "Or, if we like, we can iterate through a list using the indices using a for loop with  `in range`. This is not idiomatic and is not recommended, but accomplishes the same thing as above."
   ]
  },
  {
   "cell_type": "code",
   "execution_count": 25,
   "metadata": {},
   "outputs": [],
   "source": [
    "for i in range(len(float_list)):\n",
    "    print(float_list[i])"
   ]
  },
  {
   "cell_type": "markdown",
   "metadata": {},
   "source": [
    "What if you wanted the index as well?"
   ]
  },
  {
   "cell_type": "markdown",
   "metadata": {},
   "source": [
    "Use the built-in python method `enumerate`,  which can be used to create a list of tuples with each tuple of the form `(index, value)`. "
   ]
  },
  {
   "cell_type": "code",
   "execution_count": 26,
   "metadata": {
    "scrolled": true
   },
   "outputs": [],
   "source": [
    "for i, ele in enumerate(float_list):\n",
    "    print(i,ele)"
   ]
  },
  {
   "cell_type": "code",
   "execution_count": 27,
   "metadata": {},
   "outputs": [],
   "source": [
    "# or make a list from it using the list constructor\n",
    "list(enumerate(float_list))"
   ]
  },
  {
   "cell_type": "markdown",
   "metadata": {},
   "source": [
    "### Appending and deleting"
   ]
  },
  {
   "cell_type": "markdown",
   "metadata": {},
   "source": [
    "We can also append items to the end of the list using the `+` operator or with `append`."
   ]
  },
  {
   "cell_type": "code",
   "execution_count": 28,
   "metadata": {},
   "outputs": [],
   "source": [
    "float_list + [.333]"
   ]
  },
  {
   "cell_type": "code",
   "execution_count": 29,
   "metadata": {},
   "outputs": [],
   "source": [
    "float_list.append(.444)"
   ]
  },
  {
   "cell_type": "code",
   "execution_count": 30,
   "metadata": {},
   "outputs": [],
   "source": [
    "print(float_list)\n",
    "len(float_list)"
   ]
  },
  {
   "cell_type": "markdown",
   "metadata": {},
   "source": [
    "Go and run the cell with `float_list.append` a second time.  Then run the next line.  What happens?  \n",
    "\n",
    "To remove an item from the list, use `del.`"
   ]
  },
  {
   "cell_type": "code",
   "execution_count": 31,
   "metadata": {},
   "outputs": [],
   "source": [
    "del(float_list[2])\n",
    "print(float_list)"
   ]
  },
  {
   "cell_type": "markdown",
   "metadata": {},
   "source": [
    "### List Comprehensions\n",
    "\n",
    "Lists can be constructed in a compact way using a *list comprehension*.  Here's a simple example."
   ]
  },
  {
   "cell_type": "code",
   "execution_count": 32,
   "metadata": {},
   "outputs": [],
   "source": [
    "squaredlist = [i*i for i in int_list]\n",
    "squaredlist"
   ]
  },
  {
   "cell_type": "markdown",
   "metadata": {},
   "source": [
    "And here's a more complicated one, requiring a conditional."
   ]
  },
  {
   "cell_type": "code",
   "execution_count": 33,
   "metadata": {},
   "outputs": [],
   "source": [
    "comp_list1 = [2*i for i in squaredlist if i % 2 == 0]\n",
    "print(comp_list1)"
   ]
  },
  {
   "cell_type": "markdown",
   "metadata": {},
   "source": [
    "This is entirely equivalent to creating `comp_list1` using a loop with a conditional, as below:"
   ]
  },
  {
   "cell_type": "code",
   "execution_count": 34,
   "metadata": {},
   "outputs": [],
   "source": [
    "comp_list2 = []\n",
    "for i in squaredlist:\n",
    "    if i % 2 == 0:\n",
    "        comp_list2.append(2*i)\n",
    "        \n",
    "print(comp_list2)"
   ]
  },
  {
   "cell_type": "markdown",
   "metadata": {},
   "source": [
    "The list comprehension syntax\n",
    "\n",
    "```\n",
    "[expression for item in list if conditional]\n",
    "\n",
    "```\n",
    "\n",
    "is equivalent to the syntax\n",
    "\n",
    "```\n",
    "for item in list:\n",
    "    if conditional:\n",
    "        expression\n",
    "```"
   ]
  },
  {
   "cell_type": "markdown",
   "metadata": {},
   "source": [
    "<div class='exercise'><b> Exercise:  Build a list that contains every prime number between 1 and 100, in two different ways: </b></div>\n",
    "1.  Using for loops and conditional if statements.\n",
    "2.  *(Stretch Goal)* Using a list comprehension.  You should be able to do this in one line of code, and it may be helpful to look up the function `all` in the documentation."
   ]
  },
  {
   "cell_type": "code",
<<<<<<< HEAD
   "execution_count": 23,
   "metadata": {},
   "outputs": [
    {
     "name": "stdout",
     "output_type": "stream",
     "text": [
      "[1, 2, 3, 5, 7, 11, 13, 17, 19, 23, 29, 31, 37, 41, 43, 47, 53, 59, 61, 67, 71, 73, 79, 83, 89, 97]\n"
     ]
    }
   ],
   "source": [
    "N = 100\n",
    "primes = [];\n",
    "for i in range(1,N):\n",
    "    count = 0;\n",
    "    for y in range(2,i):\n",
    "        if i % y == 0:\n",
    "            count += 1;\n",
    "    if count == 0:\n",
    "        primes.append(i);\n",
    "print(primes);\n"
=======
   "execution_count": 35,
   "metadata": {},
   "outputs": [],
   "source": [
    "# your code here\n"
>>>>>>> ab246e962ec27508db102ecb40e53d343b8f2115
   ]
  },
  {
   "cell_type": "code",
   "execution_count": 36,
   "metadata": {},
   "outputs": [],
   "source": [
    "# your code here\n"
   ]
  },
  {
   "cell_type": "markdown",
   "metadata": {},
   "source": [
    "## Part 4: Simple Functions\n",
    "\n",
    "A *function* object is a reusable block of code that does a specific task.  Functions are all over Python, either on their own or on other objects.  To invoke a function `func`, you call it as `func(arguments)`.\n",
    "\n",
    "We've seen built-in Python functions and methods.  For example, `len` and `print` are built-in Python functions.  And at the beginning, you called `np.mean` to calculate the mean of three numbers, where `mean` is a function in the numpy module and numpy was abbreviated as `np`. This syntax allows us to have multiple \"mean\" functions in different modules; calling this one as `np.mean` guarantees that we will pick up numpy's mean function, as opposed to a mean function from a different module.\n",
    "\n",
    "### Methods\n",
    "A function that belongs to an object is called a *method*. By \"object\" here we mean an \"instance\" of a list, or integer, or floating point variable.\n",
    "\n",
    "An example of this is `append` on an existing list. In other words, a *method* is a function on an *instance* of a type of object (also called *class*, in this case, list type).\n"
   ]
  },
  {
   "cell_type": "code",
   "execution_count": 37,
   "metadata": {},
   "outputs": [],
   "source": [
    "float_list = [1.0, 2.09, 4.0, 2.0, 0.444]\n",
    "print(float_list)\n",
    "float_list.append(56.7) \n",
    "float_list"
   ]
  },
  {
   "cell_type": "markdown",
   "metadata": {},
   "source": [
    "### User-defined functions\n",
    "\n",
    "We'll now learn to write our own user-defined functions.  Below is the syntax for defining a basic function with one input argument and one output. You can also define functions with no input or output arguments, or multiple input or output arguments.\n",
    "\n",
    "```\n",
    "def name_of_function(arg):\n",
    "    ...\n",
    "    return(output)\n",
    "```\n",
    "\n",
    "We can write functions with one input and one output argument.  Here are two such functions."
   ]
  },
  {
   "cell_type": "code",
   "execution_count": 38,
   "metadata": {},
   "outputs": [],
   "source": [
    "def square(x):\n",
    "    x_sqr = x*x\n",
    "    return(x_sqr)\n",
    "\n",
    "def cube(x):\n",
    "    x_cub = x*x*x\n",
    "    return(x_cub)\n",
    "\n",
    "square(5),cube(5)"
   ]
  },
  {
   "cell_type": "markdown",
   "metadata": {},
   "source": [
    "What if you want to return two variables at a time? The usual way is to return a tuple:"
   ]
  },
  {
   "cell_type": "code",
   "execution_count": 39,
   "metadata": {},
   "outputs": [],
   "source": [
    "def square_and_cube(x):\n",
    "    x_cub = x*x*x\n",
    "    x_sqr = x*x\n",
    "    return(x_sqr, x_cub)\n",
    "\n",
    "square_and_cube(5)"
   ]
  },
  {
   "cell_type": "markdown",
   "metadata": {},
   "source": [
    "### Lambda functions\n",
    "\n",
    "Often we quickly define mathematical functions with a one-line function called a *lambda* function.  Lambda functions are great because they enable us to write functions without having to name them, ie, they're *anonymous*.  \n",
    "No return statement is needed. \n"
   ]
  },
  {
   "cell_type": "code",
   "execution_count": 40,
   "metadata": {},
   "outputs": [],
   "source": [
    "# create an anonymous function and assign it to the variable square\n",
    "square = lambda x: x*x\n",
    "print(square(3))\n",
    "\n",
    "\n",
    "hypotenuse = lambda x, y: x*x + y*y\n",
    "\n",
    "## Same as\n",
    "\n",
    "# def hypotenuse(x, y):\n",
    "#     return(x*x + y*y)\n",
    "\n",
    "hypotenuse(3,4)"
   ]
  },
  {
   "cell_type": "markdown",
   "metadata": {},
   "source": [
    "### *Refactoring* using functions\n",
    "In an exercise from Lab 0, you wrote code that generated a list of the prime numbers between 1 and 100.  For the excercise below, it may help to revisit that code.\n",
    "\n",
    "<div class='exercise'><b>Write a function called `isprime` that takes in a positive integer $N$, and determines whether or not it is prime.  Return `True` if it's prime and return `False` if it isn't. Then, using a list comprehension and `isprime`, create a list `myprimes` that contains all the prime numbers less than 100.</b></div>  "
   ]
  },
  {
   "cell_type": "code",
   "execution_count": 41,
   "metadata": {},
   "outputs": [],
   "source": [
    "# your code here\n"
   ]
  },
  {
   "cell_type": "markdown",
   "metadata": {},
   "source": [
    "## Part 5: Introduction to Numpy\n",
    "Scientific Python code uses a fast array structure, called the numpy array. Those who have worked in Matlab will find this very natural.   For reference, the numpy documention can be found [here](https://docs.scipy.org/doc/numpy/reference/).  \n",
    "\n",
    "Let's make a numpy array."
   ]
  },
  {
   "cell_type": "code",
   "execution_count": 42,
   "metadata": {},
   "outputs": [],
   "source": [
    "my_array = np.array([1, 2, 3, 4])\n",
    "my_array"
   ]
  },
  {
   "cell_type": "code",
   "execution_count": 43,
   "metadata": {},
   "outputs": [],
   "source": [
    "# works as in lists\n",
    "len(my_array)"
   ]
  },
  {
   "cell_type": "markdown",
   "metadata": {},
   "source": [
    "The shape array of an array is very useful (we'll see more of it later when we talk about 2D and higher dimensional arrays)."
   ]
  },
  {
   "cell_type": "code",
   "execution_count": 44,
   "metadata": {},
   "outputs": [],
   "source": [
    "my_array.shape"
   ]
  },
  {
   "cell_type": "markdown",
   "metadata": {},
   "source": [
    "Numpy arrays are **typed**. This means that by default, all the elements will be assumed to be of one type"
   ]
  },
  {
   "cell_type": "code",
   "execution_count": 45,
   "metadata": {},
   "outputs": [],
   "source": [
    "my_array.dtype"
   ]
  },
  {
   "cell_type": "markdown",
   "metadata": {},
   "source": [
    "Numpy arrays are listy (i.e. they act like lists)! Below we compute length, slice, and iterate. "
   ]
  },
  {
   "cell_type": "code",
   "execution_count": 46,
   "metadata": {},
   "outputs": [],
   "source": [
    "print(len(my_array))\n",
    "print(my_array[2:4])\n",
    "for ele in my_array:\n",
    "    print(ele)"
   ]
  },
  {
   "cell_type": "markdown",
   "metadata": {},
   "source": [
    "**In general you should manipulate numpy arrays by using numpy module functions** (`np.mean`, for example). This is for efficiency purposes, and a discussion about this will happen in Lab2.\n",
    "\n",
    "You can calculate the mean of the array elements either by calling the method `.mean` on a numpy array or by applying the function np.mean with the numpy array as an argument."
   ]
  },
  {
   "cell_type": "code",
   "execution_count": 47,
   "metadata": {},
   "outputs": [],
   "source": [
    "print(my_array.mean())\n",
    "print(np.mean(my_array))"
   ]
  },
  {
   "cell_type": "markdown",
   "metadata": {},
   "source": [
    "The way we constructed the numpy array above seems redundant. After all we already had a regular python list. Indeed, it is the other ways we have to construct numpy arrays that make them super useful. \n",
    "\n",
    "There are many such numpy array *constructors*. Here are some commonly used constructors. Look them up in the documentation."
   ]
  },
  {
   "cell_type": "code",
   "execution_count": 48,
   "metadata": {},
   "outputs": [],
   "source": [
    "np.ones(10) # generates 10 floating point ones"
   ]
  },
  {
   "cell_type": "markdown",
   "metadata": {},
   "source": [
    "Numpy gains a lot of its efficiency from being typed. That is, all elements in the array have the same type, such as integer or floating point. The default type, as can be seen above, is a float of size appropriate for the machine (64 bit on a 64 bit machine)."
   ]
  },
  {
   "cell_type": "code",
   "execution_count": 49,
   "metadata": {},
   "outputs": [],
   "source": [
    "np.dtype(float).itemsize # in bytes"
   ]
  },
  {
   "cell_type": "code",
   "execution_count": 50,
   "metadata": {},
   "outputs": [],
   "source": [
    "np.ones(10, dtype='int') # generates 10 integer ones"
   ]
  },
  {
   "cell_type": "code",
   "execution_count": 51,
   "metadata": {},
   "outputs": [],
   "source": [
    "np.zeros(10)"
   ]
  },
  {
   "cell_type": "markdown",
   "metadata": {},
   "source": [
    "Often you will want random numbers. Use the `random` constructor!"
   ]
  },
  {
   "cell_type": "code",
   "execution_count": 52,
   "metadata": {},
   "outputs": [],
   "source": [
    "np.random.random(10) # uniform on [0,1]"
   ]
  },
  {
   "cell_type": "markdown",
   "metadata": {},
   "source": [
    "You can generate random numbers from a normal distribution with mean 0 and variance 1:"
   ]
  },
  {
   "cell_type": "code",
   "execution_count": 53,
   "metadata": {},
   "outputs": [],
   "source": [
    "normal_array = np.random.randn(1000)\n",
    "print(\"The sample mean and standard devation are %f and %f, respectively.\" %(np.mean(normal_array), np.std(normal_array)))"
   ]
  },
  {
   "cell_type": "markdown",
   "metadata": {},
   "source": [
    "You can sample with and without replacement from an array. Lets first construct a grid:"
   ]
  },
  {
   "cell_type": "code",
   "execution_count": 54,
   "metadata": {},
   "outputs": [],
   "source": [
    "grid = np.arange(0., 1.01, 0.1)\n",
    "grid"
   ]
  },
  {
   "cell_type": "markdown",
   "metadata": {},
   "source": [
    "Without replacement"
   ]
  },
  {
   "cell_type": "code",
   "execution_count": 55,
   "metadata": {},
   "outputs": [],
   "source": [
    "np.random.choice(grid, 5, replace=False)"
   ]
  },
  {
   "cell_type": "code",
   "execution_count": 56,
   "metadata": {},
   "outputs": [],
   "source": [
    "np.random.choice(grid, 20, replace=False)"
   ]
  },
  {
   "cell_type": "markdown",
   "metadata": {},
   "source": [
    "With replacement:"
   ]
  },
  {
   "cell_type": "code",
   "execution_count": 57,
   "metadata": {},
   "outputs": [],
   "source": [
    "np.random.choice(grid, 12, replace=True)"
   ]
  },
  {
   "cell_type": "markdown",
   "metadata": {},
   "source": [
    "#### Numpy supports vector operations\n",
    "\n",
    "What does this mean? It means that instead of adding two arrays, element by element, you can just say: add the two arrays. Note that this behavior is very different from python lists."
   ]
  },
  {
   "cell_type": "code",
   "execution_count": 58,
   "metadata": {},
   "outputs": [],
   "source": [
    "first = np.ones(5)\n",
    "second = np.ones(5)\n",
    "first + second"
   ]
  },
  {
   "cell_type": "code",
   "execution_count": 59,
   "metadata": {},
   "outputs": [],
   "source": [
    "first_list = [1., 1., 1., 1., 1.]\n",
    "second_list = [1., 1., 1., 1., 1.]\n",
    "first_list + second_list #not what u want"
   ]
  },
  {
   "cell_type": "markdown",
   "metadata": {},
   "source": [
    "On some computer chips this addition actually happens in parallel, so speedups can be high. But even on regular chips, the advantage of greater readability is important."
   ]
  },
  {
   "cell_type": "markdown",
   "metadata": {},
   "source": [
    "Numpy supports a concept known as *broadcasting*, which dictates how arrays of different sizes are combined together. There are too many rules to list here, but importantly, multiplying an array by a number multiplies each element by the number. Adding a number adds the number to each element."
   ]
  },
  {
   "cell_type": "code",
   "execution_count": 60,
   "metadata": {},
   "outputs": [],
   "source": [
    "first + 1"
   ]
  },
  {
   "cell_type": "code",
   "execution_count": 61,
   "metadata": {},
   "outputs": [],
   "source": [
    "first*5"
   ]
  },
  {
   "cell_type": "markdown",
   "metadata": {},
   "source": [
    "This means that if you wanted the distribution $N(5, 7)$ you could do:"
   ]
  },
  {
   "cell_type": "code",
   "execution_count": 62,
   "metadata": {},
   "outputs": [],
   "source": [
    "normal_5_7 = 5 + 7*normal_array\n",
    "np.mean(normal_5_7), np.std(normal_5_7)"
   ]
  },
  {
   "cell_type": "markdown",
   "metadata": {},
   "source": [
    "Multiplying two arrays multiplies them element-by-element"
   ]
  },
  {
   "cell_type": "code",
   "execution_count": 63,
   "metadata": {},
   "outputs": [],
   "source": [
    "(first +1) * (first*5)"
   ]
  },
  {
   "cell_type": "markdown",
   "metadata": {},
   "source": [
    "You might have wanted to compute the dot product instead:"
   ]
  },
  {
   "cell_type": "code",
   "execution_count": 64,
   "metadata": {},
   "outputs": [],
   "source": [
    "np.dot((first +1) , (first*5))"
   ]
  },
  {
   "cell_type": "markdown",
   "metadata": {},
   "source": [
    "You can also use the @ operator for this purpose"
   ]
  },
  {
   "cell_type": "code",
   "execution_count": 65,
   "metadata": {},
   "outputs": [],
   "source": [
    "(first +1) @ (first*5)"
   ]
  },
  {
   "cell_type": "markdown",
   "metadata": {},
   "source": [
    "## Part 6: Probabilitiy Distributions from `scipy.stats`\n",
    "\n",
    "Since we'll be using many distributions, we'll want to access the pdf/pmf functions of these distributions and obtain samples from them. We already saw how to obtain samples from the continuous uniform and normal distributions. But we might want to obtain their pdfs as well.\n",
    "\n",
    "`scipy.stats` allows us to obtain the pdf function as well as samples. The programming interface is identical for all the distributions. \n",
    "\n",
    "To plot samples from and the pdfs of these distributions, we'll first import `matplotlib`, python's plotting library. \n",
    "\n",
    "The \n",
    "\n",
    "`%matplotlib inline` incantation ensures that plots are rendered inline in the browser."
   ]
  },
  {
   "cell_type": "code",
<<<<<<< HEAD
   "execution_count": 24,
=======
   "execution_count": 66,
>>>>>>> ab246e962ec27508db102ecb40e53d343b8f2115
   "metadata": {},
   "outputs": [],
   "source": [
    "%matplotlib inline\n",
    "import matplotlib.pyplot as plt"
   ]
  },
  {
   "cell_type": "markdown",
   "metadata": {},
   "source": [
    "Lets get the normal distribution namespace from `scipy.stats`. Docs [here](https://docs.scipy.org/doc/scipy/reference/generated/scipy.stats.norm.html)."
   ]
  },
  {
   "cell_type": "code",
<<<<<<< HEAD
   "execution_count": 25,
=======
   "execution_count": 67,
>>>>>>> ab246e962ec27508db102ecb40e53d343b8f2115
   "metadata": {},
   "outputs": [],
   "source": [
    "from scipy.stats import norm"
   ]
  },
  {
   "cell_type": "markdown",
   "metadata": {},
   "source": [
    "Lets create 1000 points between -10 and 10"
   ]
  },
  {
   "cell_type": "code",
<<<<<<< HEAD
   "execution_count": 26,
   "metadata": {},
   "outputs": [
    {
     "data": {
      "text/plain": [
       "(array([-10.        ,  -9.97997998,  -9.95995996,  -9.93993994,\n",
       "         -9.91991992,  -9.8998999 ,  -9.87987988,  -9.85985986,\n",
       "         -9.83983984,  -9.81981982]),\n",
       " array([ 9.81981982,  9.83983984,  9.85985986,  9.87987988,  9.8998999 ,\n",
       "         9.91991992,  9.93993994,  9.95995996,  9.97997998, 10.        ]))"
      ]
     },
     "execution_count": 26,
     "metadata": {},
     "output_type": "execute_result"
    }
   ],
=======
   "execution_count": 68,
   "metadata": {},
   "outputs": [],
>>>>>>> ab246e962ec27508db102ecb40e53d343b8f2115
   "source": [
    "x = np.linspace(-10, 10, 1000)\n",
    "x[:10], x[-10:]"
   ]
  },
  {
   "cell_type": "markdown",
   "metadata": {},
   "source": [
    "Lets get the pdf of a normal distribution with a mean of 1 and standard deviation 3 and plot it using the grid points computed before..."
   ]
  },
  {
   "cell_type": "code",
<<<<<<< HEAD
   "execution_count": 30,
   "metadata": {},
   "outputs": [
    {
     "data": {
      "image/png": "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\n",
      "text/plain": [
       "<Figure size 432x288 with 1 Axes>"
      ]
     },
     "metadata": {},
     "output_type": "display_data"
    }
   ],
=======
   "execution_count": 69,
   "metadata": {},
   "outputs": [],
>>>>>>> ab246e962ec27508db102ecb40e53d343b8f2115
   "source": [
    "pdf_x = norm.pdf(x, 1, 3)\n",
    "plt.plot(x, pdf_x);"
   ]
  },
  {
   "cell_type": "markdown",
   "metadata": {},
   "source": [
    "And you can get random variables using the `rvs` function."
   ]
  },
  {
   "cell_type": "code",
   "execution_count": 70,
   "metadata": {},
   "outputs": [],
   "source": [
    "norm.rvs(size=30, loc=1, scale=3)"
   ]
  },
  {
   "cell_type": "markdown",
   "metadata": {},
   "source": [
    "We can use a more instance based way of getting both the pdf and samples. The documentation calls this instance a \"frozen\" distribution:"
   ]
  },
  {
   "cell_type": "code",
   "execution_count": 71,
   "metadata": {},
   "outputs": [],
   "source": [
    "frozen_norm = norm(loc=1, scale=3)\n",
    "type(frozen_norm)"
   ]
  },
  {
   "cell_type": "code",
   "execution_count": 72,
   "metadata": {},
   "outputs": [],
   "source": [
    "plt.plot(x, frozen_norm.pdf(x))"
   ]
  },
  {
   "cell_type": "code",
   "execution_count": 73,
   "metadata": {},
   "outputs": [],
   "source": [
    "frozen_norm.rvs(10)"
   ]
  },
  {
   "cell_type": "markdown",
   "metadata": {},
   "source": [
    "We can now plot a histogram of the samples using matplotlib:\n",
    "\n",
    "(see docs on plt.hist by typing\n",
    "\n",
    "`?plt.hist`\n",
    "\n",
    "in a cell by itself)"
   ]
  },
  {
   "cell_type": "code",
   "execution_count": 74,
   "metadata": {},
   "outputs": [],
   "source": [
    "plt.hist(frozen_norm.rvs(1000), bins=30);"
   ]
  },
  {
   "cell_type": "markdown",
   "metadata": {},
   "source": [
    "By default the histogram gives us counts. We can re-normalize these counts to get an approximation to the probability distribution from the samples."
   ]
  },
  {
   "cell_type": "code",
   "execution_count": 75,
   "metadata": {},
   "outputs": [],
   "source": [
    "plt.hist(frozen_norm.rvs(1000), bins=30, normed=True);"
   ]
  },
  {
   "cell_type": "markdown",
   "metadata": {},
   "source": [
    "## Part 7: Conclusions\n",
    "\n",
    "For more practice exercises (with solutions) and discussion, see this [page](http://www.practicepython.org).  Some of these exercises are particularly relevant.  Check them out!\n",
    "\n",
    "Don't forget to look up [Jake's book](https://jakevdp.github.io/PythonDataScienceHandbook/).\n",
    "\n",
    "Finally, we would like to suggest using [Chris Albon's web site](https://chrisalbon.com) as a reference. Lots of useful information there."
   ]
  },
  {
   "cell_type": "markdown",
   "metadata": {},
   "source": [
    "# Additional Stuff"
   ]
  },
  {
   "cell_type": "markdown",
   "metadata": {},
   "source": [
    "## Part 1: Dictionaries\n",
    "A dictionary is another storage container.  Like a list, a dictionary is a sequence of items.  Unlike a list, a dictionary is unordered and its items are accessed with keys and not integer positions.  \n",
    "\n",
    "Dictionaries are the closest container we have to a database.\n",
    "\n",
    "Let's make a dictionary with a few Harvard courses and their corresponding enrollment numbers."
   ]
  },
  {
   "cell_type": "code",
   "execution_count": 76,
   "metadata": {},
   "outputs": [],
   "source": [
    "enroll2017_dict = {'CS50': 692, 'CS109A / Stat 121A / AC 209A': 352, 'Econ1011a': 95, 'AM21a': 153, 'Stat110': 485}\n",
    "enroll2017_dict"
   ]
  },
  {
   "cell_type": "markdown",
   "metadata": {},
   "source": [
    "One can obtain the value corrsponding to a key thus:"
   ]
  },
  {
   "cell_type": "code",
   "execution_count": 77,
   "metadata": {},
   "outputs": [],
   "source": [
    "enroll2017_dict['CS50']"
   ]
  },
  {
   "cell_type": "markdown",
   "metadata": {},
   "source": [
    "Or thus, which allows for the key to not be in the dictionary"
   ]
  },
  {
   "cell_type": "code",
   "execution_count": 78,
   "metadata": {},
   "outputs": [],
   "source": [
    "enroll2017_dict.get('CS01', 5), enroll2017_dict.get('CS01')"
   ]
  },
  {
   "cell_type": "code",
   "execution_count": 79,
   "metadata": {},
   "outputs": [],
   "source": [
    "enroll2017_dict.get('CS50')"
   ]
  },
  {
   "cell_type": "markdown",
   "metadata": {},
   "source": [
    "All sorts of iterations are supported:"
   ]
  },
  {
   "cell_type": "code",
   "execution_count": 80,
   "metadata": {},
   "outputs": [],
   "source": [
    "enroll2017_dict.values()"
   ]
  },
  {
   "cell_type": "code",
   "execution_count": 81,
   "metadata": {},
   "outputs": [],
   "source": [
    "enroll2017_dict.items()"
   ]
  },
  {
   "cell_type": "markdown",
   "metadata": {},
   "source": [
    "We can iterate over the tuples obtained above:\n",
    "(to read more about how the print formatting works , look at https://docs.python.org/3/library/stdtypes.html#old-string-formatting and https://docs.python.org/3/tutorial/inputoutput.html)"
   ]
  },
  {
   "cell_type": "code",
   "execution_count": 82,
   "metadata": {},
   "outputs": [],
   "source": [
    "for key, value in enroll2017_dict.items():\n",
    "    print(\"%s: %d\" %(key, value))"
   ]
  },
  {
   "cell_type": "markdown",
   "metadata": {},
   "source": [
    "Simply iterating over a dictionary gives us the keys. This is useful when we want to do something with each item:"
   ]
  },
  {
   "cell_type": "code",
   "execution_count": 83,
   "metadata": {},
   "outputs": [],
   "source": [
    "second_dict={}\n",
    "for key in enroll2017_dict:\n",
    "    second_dict[key] = enroll2017_dict[key]\n",
    "second_dict"
   ]
  },
  {
   "cell_type": "markdown",
   "metadata": {},
   "source": [
    "The above is an actual copy to another part of memory, unlike, `second_dict = enroll2017_dict` which would have made both variables label the same memory location."
   ]
  },
  {
   "cell_type": "markdown",
   "metadata": {},
   "source": [
    "In this example, the keys were strings corresponding to course names.  Keys don't have to be strings though.  \n",
    "\n",
    "Like lists, you can construct dictionaries using a *dictionary comprehension*, which is similar to a list comprehension. Notice the brackets {} and the use of `zip`, which is another iterator that combines two lists together."
   ]
  },
  {
   "cell_type": "code",
   "execution_count": 84,
   "metadata": {},
   "outputs": [],
   "source": [
    "my_dict = {k:v for (k, v) in zip(int_list, float_list)}\n",
    "my_dict"
   ]
  },
  {
   "cell_type": "markdown",
   "metadata": {},
   "source": [
    "You can also create dictionaries using the *constructor* function `dict`."
   ]
  },
  {
   "cell_type": "code",
   "execution_count": 85,
   "metadata": {},
   "outputs": [],
   "source": [
    "dict(a = 1, b = 2)"
   ]
  },
  {
   "cell_type": "markdown",
   "metadata": {},
   "source": [
    "## Part 2:  Introduction to Pandas \n",
    "\n",
    "Often data is stored in comma separated values (CSV) files.    For the remainder of this lab, we'll be working with [automobile data](https://stat.ethz.ch/R-manual/R-devel/library/datasets/html/mtcars.html), where we've extracted relevant parts below.\n",
    "\n",
    "Note that CSV files can be output by any spreadsheet software, and are plain text, hence are a great way to share data. "
   ]
  },
  {
   "cell_type": "markdown",
   "metadata": {},
   "source": [
    "### Importing data with pandas\n",
    "\n",
    "Now let's read in our automobile data as a pandas *dataframe* structure.  "
   ]
  },
  {
   "cell_type": "code",
   "execution_count": 86,
   "metadata": {},
   "outputs": [],
   "source": [
    "import pandas as pd"
   ]
  },
  {
   "cell_type": "code",
   "execution_count": 87,
   "metadata": {},
   "outputs": [],
   "source": [
    "# Read in the csv files\n",
    "dfcars=pd.read_csv(\"data/mtcars.csv\")\n",
    "type(dfcars)"
   ]
  },
  {
   "cell_type": "code",
   "execution_count": 88,
   "metadata": {},
   "outputs": [],
   "source": [
    "dfcars.head()"
   ]
  },
  {
   "cell_type": "markdown",
   "metadata": {},
   "source": [
    "What we have now is a spreadsheet with indexed rows and named columns, called a *dataframe* in pandas.  `dfcars` is an *instance* of the pd.DataFrame *class*, created by calling the pd.read_csv \"constructor function\".\n",
    "\n",
    "The take-away is that `dfcars` is a dataframe object, and it has methods (functions) belonging to it. For example, `df.head()` is a method that shows the first 5 rows of the dataframe.\n",
    "\n",
    "A pandas dataframe is a set of columns pasted together into a spreadsheet, as shown in the schematic below, which is taken from the cheatsheet above.  The columns in pandas are called *series* objects.\n",
    "\n",
    "![](images/pandastruct.png)"
   ]
  },
  {
   "cell_type": "markdown",
   "metadata": {},
   "source": [
    "Let's look again at the first five rows of `dfcars`.  "
   ]
  },
  {
   "cell_type": "code",
   "execution_count": 89,
   "metadata": {},
   "outputs": [],
   "source": [
    "dfcars.head()"
   ]
  },
  {
   "cell_type": "markdown",
   "metadata": {},
   "source": [
    "Notice the poorly named first column: \"Unnamed: 0\". Why did that happen?\n",
    "\n",
    "The first column, which seems to be the name of the car, does not have a name. Here are the first 3 lines of the file:"
   ]
  },
  {
   "cell_type": "markdown",
   "metadata": {},
   "source": [
    "```    \n",
    "\"\",\"mpg\",\"cyl\",\"disp\",\"hp\",\"drat\",\"wt\",\"qsec\",\"vs\",\"am\",\"gear\",\"carb\"\n",
    "\"Mazda RX4\",21,6,160,110,3.9,2.62,16.46,0,1,4,4\n",
    "\"Mazda RX4 Wag\",21,6,160,110,3.9,2.875,17.02,0,1,4,4\n",
    "```\n",
    "\n",
    "Lets **clean** that up:"
   ]
  },
  {
   "cell_type": "code",
   "execution_count": 90,
   "metadata": {
    "scrolled": false
   },
   "outputs": [],
   "source": [
    "dfcars = dfcars.rename(columns={\"Unnamed: 0\": \"name\"})\n",
    "dfcars.head()"
   ]
  },
  {
   "cell_type": "markdown",
   "metadata": {},
   "source": [
    "In the above, the argument `columns = {\"Unnamed: 0\": \"name\"}` of `rename` changed the name of the first column in the dataframe from `Unnamed: 0` to `name`. \n",
    "\n",
    "Lets save this cleaned dataframe out to a CSV file."
   ]
  },
  {
   "cell_type": "code",
   "execution_count": 91,
   "metadata": {},
   "outputs": [],
   "source": [
    "# dont store the 0,1,2,3,4.. index\n",
    "dfcars.to_csv(\"data/cleaned-mtcars.csv\", index=False, header=True)"
   ]
  },
  {
   "cell_type": "markdown",
   "metadata": {},
   "source": [
    "The output will look something like this:\n",
    "\n",
    "```\n",
    "name,mpg,cyl,disp,hp,drat,wt,qsec,vs,am,gear,carb\n",
    "Mazda RX4,21.0,6,160.0,110,3.9,2.62,16.46,0,1,4,4\n",
    "Mazda RX4 Wag,21.0,6,160.0,110,3.9,2.875,17.02,0,1,4,4\n",
    "Datsun 710,22.8,4,108.0,93,3.85,2.32,18.61,1,1,4,1\n",
    "Hornet 4 Drive,21.4,6,258.0,110,3.08,3.215,19.44,1,0,3,1\n",
    "Hornet Sportabout,18.7,8,360.0,175,3.15,3.44,17.02,0,0,3,2\n",
    "Valiant,18.1,6,225.0,105,2.76,3.46,20.22,1,0,3,1\n",
    "```"
   ]
  },
  {
   "cell_type": "markdown",
   "metadata": {},
   "source": [
    "To access a *series* (column), you can use either dictionary syntax or instance-variable syntax."
   ]
  },
  {
   "cell_type": "markdown",
   "metadata": {},
   "source": [
    "Dictionary syntax is very useful when column names have spaces: Python variables cannot have spaces in them."
   ]
  },
  {
   "cell_type": "code",
   "execution_count": 92,
   "metadata": {},
   "outputs": [],
   "source": [
    "dfcars.mpg"
   ]
  },
  {
   "cell_type": "code",
   "execution_count": 93,
   "metadata": {},
   "outputs": [],
   "source": [
    "dfcars['mpg']"
   ]
  },
  {
   "cell_type": "markdown",
   "metadata": {},
   "source": [
    "You can get a numpy array of values from the Pandas Series:"
   ]
  },
  {
   "cell_type": "code",
   "execution_count": 94,
   "metadata": {},
   "outputs": [],
   "source": [
    "dfcars.mpg.values"
   ]
  },
  {
   "cell_type": "markdown",
   "metadata": {},
   "source": [
    "And we can produce a histogram from these values"
   ]
  },
  {
   "cell_type": "code",
   "execution_count": 95,
   "metadata": {},
   "outputs": [],
   "source": [
    "# the .values isnt really need, a series behaves like a list for\n",
    "# plotting purposes\n",
    "plt.hist(dfcars.mpg.values, bins=20);\n",
    "plt.xlabel(\"mpg\");\n",
    "plt.ylabel(\"Frequency\")\n",
    "plt.title(\"Miles per Gallon\");"
   ]
  },
  {
   "cell_type": "markdown",
   "metadata": {},
   "source": [
    "But pandas is very cool: you can get a histogram directly:"
   ]
  },
  {
   "cell_type": "code",
   "execution_count": 96,
   "metadata": {},
   "outputs": [],
   "source": [
    "dfcars.mpg.hist(bins=20);\n",
    "plt.xlabel(\"mpg\");\n",
    "plt.ylabel(\"Frequency\")\n",
    "plt.title(\"Miles per Gallon\");"
   ]
  },
  {
   "cell_type": "markdown",
   "metadata": {},
   "source": [
    "\n",
    "We can also get sub-dataframes by choosing a set of series. We  pass a list of the columns we want as \"dictionary keys\" to the dataframe.  "
   ]
  },
  {
   "cell_type": "code",
   "execution_count": 97,
   "metadata": {},
   "outputs": [],
   "source": [
    "dfcars[['am', 'mpg']]"
   ]
  },
  {
   "cell_type": "markdown",
   "metadata": {},
   "source": [
    "### Scatter plots\n",
    "We often want to see co-variation among our columns, for example, miles/gallon versus weight.  This can be done with a scatter plot. "
   ]
  },
  {
   "cell_type": "code",
   "execution_count": 98,
   "metadata": {},
   "outputs": [],
   "source": [
    "plt.scatter(dfcars.wt, dfcars.mpg);\n",
    "plt.xlabel(\"weight\");\n",
    "plt.ylabel(\"miles per gallon\");"
   ]
  },
  {
   "cell_type": "markdown",
   "metadata": {},
   "source": [
    "You could have used `plot` instead of `scatter`."
   ]
  },
  {
   "cell_type": "code",
   "execution_count": 99,
   "metadata": {},
   "outputs": [],
   "source": [
    "plt.plot(dfcars.wt, dfcars.mpg, 'o');\n",
    "plt.xlabel(\"weight\");\n",
    "plt.ylabel(\"miles per gallon\");"
   ]
  },
  {
   "cell_type": "markdown",
   "metadata": {},
   "source": [
    "Usually we use `plt.show()` at the end of every plot to display the plot. Our magical incantation `%matplotlib inline` takes care of this for us, and we don't have to do it in the Jupyter notebook. But if you run your Python program from a file, you will need to explicitly have a call to show. We include it for completion."
   ]
  },
  {
   "cell_type": "code",
   "execution_count": 100,
   "metadata": {},
   "outputs": [],
   "source": [
    "plt.plot(dfcars.wt, dfcars.mpg, 'ko')  #black dots\n",
    "plt.xlabel(\"weight\");\n",
    "plt.ylabel(\"miles per gallon\");\n",
    "plt.show()"
   ]
  },
  {
   "cell_type": "markdown",
   "metadata": {},
   "source": [
    "Suppose we'd like to save a figure to a file.  We do this by including the `savefig` command in the same cell as the plotting commands.  The file extension tells you how the file will be saved. "
   ]
  },
  {
   "cell_type": "code",
   "execution_count": 101,
   "metadata": {},
   "outputs": [],
   "source": [
    "plt.plot(dfcars.wt, dfcars.mpg, 'o')\n",
    "plt.xlabel(\"weight\");\n",
    "plt.ylabel(\"miles per gallon\");\n",
    "plt.savefig('images/foo1.pdf')\n",
    "plt.savefig('images/foo1.png', bbox_inches='tight') #less whitespace around image"
   ]
  },
  {
   "cell_type": "markdown",
   "metadata": {},
   "source": [
    "And this is what the saved png looks like. Code in Markdown to show this is:\n",
    "\n",
    "`![](images/foo1.png)`\n",
    "\n",
    "![](images/foo1.png)"
   ]
  },
  {
   "cell_type": "markdown",
   "metadata": {},
   "source": [
    "Below is a summary of the most commonly used `matplotlib` plotting routines.\n",
    "\n",
    "![](images/mpl1.png)"
   ]
  },
  {
   "cell_type": "markdown",
   "metadata": {},
   "source": [
    "<div class='exercise'><b> Exercise </b></div> Create a scatter plot showing the co-variation between two columns of your choice.  Label the axes.  See if you can do this *without* copying and pasting code from earlier in the lab.  What can you conclude, if anything, from your scatter plot?"
   ]
  },
  {
   "cell_type": "code",
   "execution_count": 102,
   "metadata": {},
   "outputs": [],
   "source": [
    "# your code here\n"
   ]
  }
 ],
 "metadata": {
  "anaconda-cloud": {},
  "kernelspec": {
   "display_name": "Python 3",
   "language": "python",
   "name": "python3"
  },
  "language_info": {
   "codemirror_mode": {
    "name": "ipython",
    "version": 3
   },
   "file_extension": ".py",
   "mimetype": "text/x-python",
   "name": "python",
   "nbconvert_exporter": "python",
   "pygments_lexer": "ipython3",
<<<<<<< HEAD
   "version": "3.6.5"
=======
   "version": "3.6.1"
>>>>>>> ab246e962ec27508db102ecb40e53d343b8f2115
  }
 },
 "nbformat": 4,
 "nbformat_minor": 2
}
